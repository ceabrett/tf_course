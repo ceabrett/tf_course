{
  "nbformat": 4,
  "nbformat_minor": 0,
  "metadata": {
    "colab": {
      "name": "w1.ipynb",
      "version": "0.3.2",
      "provenance": [],
      "collapsed_sections": [],
      "include_colab_link": true
    },
    "kernelspec": {
      "name": "python2",
      "display_name": "Python 2"
    }
  },
  "cells": [
    {
      "cell_type": "markdown",
      "metadata": {
        "id": "view-in-github",
        "colab_type": "text"
      },
      "source": [
        "<a href=\"https://colab.research.google.com/github/ceabrett/tf_course/blob/master/w1.ipynb\" target=\"_parent\"><img src=\"https://colab.research.google.com/assets/colab-badge.svg\" alt=\"Open In Colab\"/></a>"
      ]
    },
    {
      "metadata": {
        "id": "EQSpivuRDz8N",
        "colab_type": "text"
      },
      "cell_type": "markdown",
      "source": [
        "# Predicting whether a light is on or off\n",
        "\n",
        "I have collected the data for one of my lights over a period of about 2 months. In this exercise we will train a tensorflow model to predict the state of the light from the following featuers:\n",
        "* hour of the day\n",
        "* day of the week\n",
        "* minutes since the last state change in the home (log scaled)\n",
        "* miuntes since the last utterance in the home (log scaled)\n",
        "* the elevation of the sun (scaled between -1 and -1)\n",
        "* mean onoff state (the proportion of other lights in the home that are on)"
      ]
    },
    {
      "metadata": {
        "id": "bYrscVwpFVYN",
        "colab_type": "text"
      },
      "cell_type": "markdown",
      "source": [
        "**Exercise:** Which of these features would you expect to be the most important? Can you think of any other features that would help?"
      ]
    },
    {
      "metadata": {
        "id": "U-Lj6MnRwFgD",
        "colab_type": "text"
      },
      "cell_type": "markdown",
      "source": [
        "First lets executre the code from the lecture and the code from the slides, just to make sure it works."
      ]
    },
    {
      "metadata": {
        "id": "iMp8_Qo2GvgF",
        "colab_type": "code",
        "colab": {}
      },
      "cell_type": "code",
      "source": [
        "# import some modules that we will use in the notebook\n",
        "import tensorflow as tf\n",
        "from tensorflow import keras\n",
        "import numpy as np\n",
        "import pandas as pd"
      ],
      "execution_count": 0,
      "outputs": []
    },
    {
      "metadata": {
        "id": "KjglX-RA-obL",
        "colab_type": "code",
        "outputId": "f952f26f-fec7-4a3c-8ced-d11123096605",
        "colab": {
          "base_uri": "https://localhost:8080/",
          "height": 374
        }
      },
      "cell_type": "code",
      "source": [
        "# code from the week 1 lectures\n",
        "model = tf.keras.Sequential([keras.layers.Dense(units=1, input_shape=[1])])\n",
        "model.compile(optimizer='sgd', loss='mean_squared_error')\n",
        "\n",
        "xs = np.array([-1.0,  0.0, 1.0, 2.0, 3.0, 4.0], dtype=float)\n",
        "ys = np.array([-3.0, -1.0, 1.0, 3.0, 5.0, 7.0], dtype=float)\n",
        "\n",
        "model.fit(xs, ys, epochs=10)\n",
        "\n",
        "print(\"prediction = %s\" % model.predict([1]))"
      ],
      "execution_count": 0,
      "outputs": [
        {
          "output_type": "stream",
          "text": [
            "Epoch 1/10\n",
            "6/6 [==============================] - 1s 100ms/sample - loss: 55.4513\n",
            "Epoch 2/10\n",
            "6/6 [==============================] - 0s 714us/sample - loss: 44.0409\n",
            "Epoch 3/10\n",
            "6/6 [==============================] - 0s 669us/sample - loss: 35.0553\n",
            "Epoch 4/10\n",
            "6/6 [==============================] - 0s 427us/sample - loss: 27.9775\n",
            "Epoch 5/10\n",
            "6/6 [==============================] - 0s 428us/sample - loss: 22.4008\n",
            "Epoch 6/10\n",
            "6/6 [==============================] - 0s 297us/sample - loss: 18.0054\n",
            "Epoch 7/10\n",
            "6/6 [==============================] - 0s 342us/sample - loss: 14.5394\n",
            "Epoch 8/10\n",
            "6/6 [==============================] - 0s 406us/sample - loss: 11.8049\n",
            "Epoch 9/10\n",
            "6/6 [==============================] - 0s 552us/sample - loss: 9.6460\n",
            "Epoch 10/10\n",
            "6/6 [==============================] - 0s 440us/sample - loss: 7.9401\n",
            "prediction = [[1.0211489]]\n"
          ],
          "name": "stdout"
        }
      ]
    },
    {
      "metadata": {
        "id": "NFdhrUzQwGCb",
        "colab_type": "code",
        "outputId": "2c845bdc-be58-4098-bc10-8a582b20a739",
        "colab": {
          "base_uri": "https://localhost:8080/",
          "height": 700
        }
      },
      "cell_type": "code",
      "source": [
        "# code from the slides\n",
        "model = tf.keras.Sequential()\n",
        "model.add(keras.layers.Dense(1, input_shape=[1], activation=\"relu\"))\n",
        "model.add(keras.layers.Dense(2, activation=\"softmax\"))\n",
        "model.compile(optimizer='adam', loss='categorical_crossentropy', metrics=[\"accuracy\"])\n",
        "\n",
        "model.summary()\n",
        "\n",
        "xs = np.array([-1.0, 2.0, -3.0, 4.0, -5.0, 6.0], dtype=float)\n",
        "ys = np.array([[0, 1], [1, 0], [0, 1], [1, 0], [0, 1], [1, 0]], dtype=float)\n",
        "\n",
        "model.fit(xs, ys, epochs=10)\n",
        "\n",
        "print(\"prediction = %s\" % model.predict([-2, 2]))"
      ],
      "execution_count": 3,
      "outputs": [
        {
          "output_type": "stream",
          "text": [
            "WARNING:tensorflow:From /usr/local/lib/python2.7/dist-packages/tensorflow/python/ops/resource_variable_ops.py:435: colocate_with (from tensorflow.python.framework.ops) is deprecated and will be removed in a future version.\n",
            "Instructions for updating:\n",
            "Colocations handled automatically by placer.\n",
            "_________________________________________________________________\n",
            "Layer (type)                 Output Shape              Param #   \n",
            "=================================================================\n",
            "dense (Dense)                (None, 1)                 2         \n",
            "_________________________________________________________________\n",
            "dense_1 (Dense)              (None, 2)                 4         \n",
            "=================================================================\n",
            "Total params: 6\n",
            "Trainable params: 6\n",
            "Non-trainable params: 0\n",
            "_________________________________________________________________\n",
            "WARNING:tensorflow:From /usr/local/lib/python2.7/dist-packages/tensorflow/python/ops/math_ops.py:3066: to_int32 (from tensorflow.python.ops.math_ops) is deprecated and will be removed in a future version.\n",
            "Instructions for updating:\n",
            "Use tf.cast instead.\n",
            "Epoch 1/10\n",
            "6/6 [==============================] - 0s 73ms/sample - loss: 0.4599 - acc: 0.5000\n",
            "Epoch 2/10\n",
            "6/6 [==============================] - 0s 395us/sample - loss: 0.4589 - acc: 1.0000\n",
            "Epoch 3/10\n",
            "6/6 [==============================] - 0s 361us/sample - loss: 0.4580 - acc: 1.0000\n",
            "Epoch 4/10\n",
            "6/6 [==============================] - 0s 420us/sample - loss: 0.4570 - acc: 1.0000\n",
            "Epoch 5/10\n",
            "6/6 [==============================] - 0s 439us/sample - loss: 0.4561 - acc: 1.0000\n",
            "Epoch 6/10\n",
            "6/6 [==============================] - 0s 398us/sample - loss: 0.4551 - acc: 1.0000\n",
            "Epoch 7/10\n",
            "6/6 [==============================] - 0s 369us/sample - loss: 0.4542 - acc: 1.0000\n",
            "Epoch 8/10\n",
            "6/6 [==============================] - 0s 402us/sample - loss: 0.4532 - acc: 1.0000\n",
            "Epoch 9/10\n",
            "6/6 [==============================] - 0s 484us/sample - loss: 0.4523 - acc: 1.0000\n",
            "Epoch 10/10\n",
            "6/6 [==============================] - 0s 524us/sample - loss: 0.4514 - acc: 1.0000\n",
            "prediction = [[0.494999   0.505001  ]\n",
            " [0.6865077  0.31349224]]\n"
          ],
          "name": "stdout"
        }
      ]
    },
    {
      "metadata": {
        "id": "57vUuJdl_TyQ",
        "colab_type": "text"
      },
      "cell_type": "markdown",
      "source": [
        "**Exercise:** Do the above predictions look correct?"
      ]
    },
    {
      "metadata": {
        "id": "PjBpIYCM_aXf",
        "colab_type": "text"
      },
      "cell_type": "markdown",
      "source": [
        "Now lets load my smart home dataset."
      ]
    },
    {
      "metadata": {
        "id": "1eQY4AI4G8Ro",
        "colab_type": "code",
        "outputId": "a5c7fa61-3abf-4e9b-dc3e-2abf2ae3b917",
        "colab": {
          "base_uri": "https://localhost:8080/",
          "height": 306
        }
      },
      "cell_type": "code",
      "source": [
        "# make the dataset accessible to this notebook\n",
        "!git clone https://github.com/ceabrett/tf_course.git\n",
        "\n",
        "# load the dataset into a pandas dataframe and show the beginning of the dataset\n",
        "df = pd.read_csv(\"tf_course/data.csv\")\n",
        "df.head()"
      ],
      "execution_count": 7,
      "outputs": [
        {
          "output_type": "stream",
          "text": [
            "Cloning into 'tf_course'...\n",
            "remote: Enumerating objects: 56, done.\u001b[K\n",
            "remote: Counting objects: 100% (56/56), done.\u001b[K\n",
            "remote: Compressing objects: 100% (47/47), done.\u001b[K\n",
            "remote: Total 56 (delta 27), reused 16 (delta 5), pack-reused 0\u001b[K\n",
            "Unpacking objects: 100% (56/56), done.\n"
          ],
          "name": "stdout"
        },
        {
          "output_type": "execute_result",
          "data": {
            "text/html": [
              "<div>\n",
              "<style scoped>\n",
              "    .dataframe tbody tr th:only-of-type {\n",
              "        vertical-align: middle;\n",
              "    }\n",
              "\n",
              "    .dataframe tbody tr th {\n",
              "        vertical-align: top;\n",
              "    }\n",
              "\n",
              "    .dataframe thead th {\n",
              "        text-align: right;\n",
              "    }\n",
              "</style>\n",
              "<table border=\"1\" class=\"dataframe\">\n",
              "  <thead>\n",
              "    <tr style=\"text-align: right;\">\n",
              "      <th></th>\n",
              "      <th>dow_f</th>\n",
              "      <th>hour_f</th>\n",
              "      <th>log_mins_since_any_onoff</th>\n",
              "      <th>log_mins_since_utt</th>\n",
              "      <th>mean_onoff_state</th>\n",
              "      <th>state</th>\n",
              "      <th>sun_elevation</th>\n",
              "    </tr>\n",
              "  </thead>\n",
              "  <tbody>\n",
              "    <tr>\n",
              "      <th>0</th>\n",
              "      <td>3.666667</td>\n",
              "      <td>16.00</td>\n",
              "      <td>3.418493</td>\n",
              "      <td>6.053619</td>\n",
              "      <td>0.2</td>\n",
              "      <td>1</td>\n",
              "      <td>0.024071</td>\n",
              "    </tr>\n",
              "    <tr>\n",
              "      <th>1</th>\n",
              "      <td>3.677083</td>\n",
              "      <td>16.25</td>\n",
              "      <td>3.818226</td>\n",
              "      <td>6.088252</td>\n",
              "      <td>0.2</td>\n",
              "      <td>1</td>\n",
              "      <td>0.004045</td>\n",
              "    </tr>\n",
              "    <tr>\n",
              "      <th>2</th>\n",
              "      <td>3.687500</td>\n",
              "      <td>16.50</td>\n",
              "      <td>4.103030</td>\n",
              "      <td>6.121726</td>\n",
              "      <td>0.2</td>\n",
              "      <td>1</td>\n",
              "      <td>-0.016666</td>\n",
              "    </tr>\n",
              "    <tr>\n",
              "      <th>3</th>\n",
              "      <td>3.697917</td>\n",
              "      <td>16.75</td>\n",
              "      <td>4.324442</td>\n",
              "      <td>6.154116</td>\n",
              "      <td>0.2</td>\n",
              "      <td>1</td>\n",
              "      <td>-0.047375</td>\n",
              "    </tr>\n",
              "    <tr>\n",
              "      <th>4</th>\n",
              "      <td>3.708333</td>\n",
              "      <td>17.00</td>\n",
              "      <td>1.963954</td>\n",
              "      <td>1.368262</td>\n",
              "      <td>0.4</td>\n",
              "      <td>1</td>\n",
              "      <td>-0.073805</td>\n",
              "    </tr>\n",
              "  </tbody>\n",
              "</table>\n",
              "</div>"
            ],
            "text/plain": [
              "      dow_f  hour_f  log_mins_since_any_onoff  log_mins_since_utt  \\\n",
              "0  3.666667   16.00                  3.418493            6.053619   \n",
              "1  3.677083   16.25                  3.818226            6.088252   \n",
              "2  3.687500   16.50                  4.103030            6.121726   \n",
              "3  3.697917   16.75                  4.324442            6.154116   \n",
              "4  3.708333   17.00                  1.963954            1.368262   \n",
              "\n",
              "   mean_onoff_state  state  sun_elevation  \n",
              "0               0.2      1       0.024071  \n",
              "1               0.2      1       0.004045  \n",
              "2               0.2      1      -0.016666  \n",
              "3               0.2      1      -0.047375  \n",
              "4               0.4      1      -0.073805  "
            ]
          },
          "metadata": {
            "tags": []
          },
          "execution_count": 7
        }
      ]
    },
    {
      "metadata": {
        "id": "kOBSwpMFHb8v",
        "colab_type": "code",
        "outputId": "ce46623c-6549-4284-861a-359becb8765d",
        "colab": {
          "base_uri": "https://localhost:8080/",
          "height": 164
        }
      },
      "cell_type": "code",
      "source": [
        "# some summary statistics about the data\n",
        "df.describe()"
      ],
      "execution_count": 6,
      "outputs": [
        {
          "output_type": "error",
          "ename": "NameError",
          "evalue": "ignored",
          "traceback": [
            "\u001b[0;31m\u001b[0m",
            "\u001b[0;31mNameError\u001b[0mTraceback (most recent call last)",
            "\u001b[0;32m<ipython-input-6-ea8415b8a3ee>\u001b[0m in \u001b[0;36m<module>\u001b[0;34m()\u001b[0m\n\u001b[0;32m----> 1\u001b[0;31m \u001b[0mdf\u001b[0m\u001b[0;34m.\u001b[0m\u001b[0mdescribe\u001b[0m\u001b[0;34m(\u001b[0m\u001b[0;34m)\u001b[0m\u001b[0;34m\u001b[0m\u001b[0m\n\u001b[0m",
            "\u001b[0;31mNameError\u001b[0m: name 'df' is not defined"
          ]
        }
      ]
    },
    {
      "metadata": {
        "id": "hYCo_vw6Fwdm",
        "colab_type": "text"
      },
      "cell_type": "markdown",
      "source": [
        "We want to predict \"state\" using everything else as a feature, so lets seperate them. Tensorflow expects us to pass seperately the features and the label to the fit function."
      ]
    },
    {
      "metadata": {
        "id": "0rSdfzbtJJBU",
        "colab_type": "code",
        "colab": {
          "base_uri": "https://localhost:8080/",
          "height": 34
        },
        "outputId": "0146b542-8243-46d0-be3e-099c5c7e238e"
      },
      "cell_type": "code",
      "source": [
        "# to keep things simple initially, lets just use 1 feature, \"hour_f\"\n",
        "feat_names = [\"hour_f\"]\n",
        "\n",
        "# later we can use all features by uncommenting the below line\n",
        "#feat_names = [feat_name for feat_name in df.columns if feat_name != \"state\"]\n",
        "\n",
        "feats = df[feat_names]\n",
        "label = df[\"state\"]\n",
        "\n",
        "# tensorflow is expecting the features vector to be a 2 dimensional array, not a pandas dataframe. But we can get the underlying array with .values\n",
        "xs_light = feats.values\n",
        "ys_light = label.values\n",
        "\n",
        "# for classification into 2 classes our output dimension should be 2\n",
        "# currently ys looks like [0, 1, 0 ...], but we want [[0, 1], [1, 0], [0, 1],..]\n",
        "# luckily there is a helper function which does this mapping for us\n",
        "from keras.utils import np_utils\n",
        "ys_light = np_utils.to_categorical(ys_light, 2)"
      ],
      "execution_count": 8,
      "outputs": [
        {
          "output_type": "stream",
          "text": [
            "Using TensorFlow backend.\n"
          ],
          "name": "stderr"
        }
      ]
    },
    {
      "metadata": {
        "id": "bvIWL1FVLcWI",
        "colab_type": "text"
      },
      "cell_type": "markdown",
      "source": [
        "Now lets train our classification model on the real data."
      ]
    },
    {
      "metadata": {
        "id": "7GEwAbByKOuf",
        "colab_type": "code",
        "outputId": "85527423-955f-4ed2-9469-728e68fa9dd5",
        "colab": {
          "base_uri": "https://localhost:8080/",
          "height": 578
        }
      },
      "cell_type": "code",
      "source": [
        "# code from the slides\n",
        "model = tf.keras.Sequential()\n",
        "model.add(keras.layers.Dense(1, input_shape=[1], activation=\"relu\"))\n",
        "model.add(keras.layers.Dense(2, activation=\"softmax\"))\n",
        "model.compile(optimizer='adam', loss='categorical_crossentropy', metrics=[\"accuracy\"])\n",
        "\n",
        "model.summary()\n",
        "\n",
        "model.fit(xs_light, ys_light, epochs=10)\n",
        "\n",
        "print(\"prediction = %s\" % model.predict([4, 17]))"
      ],
      "execution_count": 9,
      "outputs": [
        {
          "output_type": "stream",
          "text": [
            "_________________________________________________________________\n",
            "Layer (type)                 Output Shape              Param #   \n",
            "=================================================================\n",
            "dense_4 (Dense)              (None, 1)                 2         \n",
            "_________________________________________________________________\n",
            "dense_5 (Dense)              (None, 2)                 4         \n",
            "=================================================================\n",
            "Total params: 6\n",
            "Trainable params: 6\n",
            "Non-trainable params: 0\n",
            "_________________________________________________________________\n",
            "Epoch 1/10\n",
            "5953/5953 [==============================] - 0s 64us/sample - loss: 0.6575 - acc: 0.7361\n",
            "Epoch 2/10\n",
            "5953/5953 [==============================] - 0s 39us/sample - loss: 0.6115 - acc: 0.7361\n",
            "Epoch 3/10\n",
            "5953/5953 [==============================] - 0s 40us/sample - loss: 0.5905 - acc: 0.7361\n",
            "Epoch 4/10\n",
            "5953/5953 [==============================] - 0s 41us/sample - loss: 0.5821 - acc: 0.7361\n",
            "Epoch 5/10\n",
            "5953/5953 [==============================] - 0s 40us/sample - loss: 0.5789 - acc: 0.7361\n",
            "Epoch 6/10\n",
            "5953/5953 [==============================] - 0s 40us/sample - loss: 0.5777 - acc: 0.7361\n",
            "Epoch 7/10\n",
            "5953/5953 [==============================] - 0s 39us/sample - loss: 0.5774 - acc: 0.7361\n",
            "Epoch 8/10\n",
            "5953/5953 [==============================] - 0s 38us/sample - loss: 0.5773 - acc: 0.7361\n",
            "Epoch 9/10\n",
            "5953/5953 [==============================] - 0s 38us/sample - loss: 0.5772 - acc: 0.7361\n",
            "Epoch 10/10\n",
            "5953/5953 [==============================] - 0s 42us/sample - loss: 0.5772 - acc: 0.7361\n",
            "prediction = [[0.7356429  0.26435712]\n",
            " [0.7356429  0.26435712]]\n"
          ],
          "name": "stdout"
        }
      ]
    },
    {
      "metadata": {
        "id": "J8RJJ0SKBsnE",
        "colab_type": "text"
      },
      "cell_type": "markdown",
      "source": [
        "**Exercise:** Do these predictions make sense?"
      ]
    },
    {
      "metadata": {
        "id": "kGKBk4T1Bzmi",
        "colab_type": "text"
      },
      "cell_type": "markdown",
      "source": [
        "Let's visualize our model to see if we can better understand what is going on."
      ]
    },
    {
      "metadata": {
        "id": "hPztkdtXSRQu",
        "colab_type": "code",
        "outputId": "7c2967d4-0fda-4817-b160-77887a84ebc2",
        "colab": {
          "base_uri": "https://localhost:8080/",
          "height": 767
        }
      },
      "cell_type": "code",
      "source": [
        "import matplotlib.pyplot as plt\n",
        "\n",
        "def plot(model):\n",
        "  # plot one point for each hour of the day\n",
        "  hours = range(23)\n",
        "  preds = model.predict(hours)\n",
        "  print(\"predictions = %s\" % preds)\n",
        "  plt.plot(hours, preds[:, -1])\n",
        "  plt.xlabel(\"hour\")\n",
        "  plt.ylabel(\"prediction\")\n",
        "  plt.title(\"Prediction by hour of day\")\n",
        "  \n",
        "plot(model)"
      ],
      "execution_count": 0,
      "outputs": [
        {
          "output_type": "stream",
          "text": [
            "predictions = [[0.86153257 0.13846742]\n",
            " [0.86002296 0.13997707]\n",
            " [0.8498493  0.15015078]\n",
            " [0.83907443 0.16092557]\n",
            " [0.82768327 0.17231677]\n",
            " [0.81566286 0.18433717]\n",
            " [0.8030035  0.19699651]\n",
            " [0.7896989  0.21030107]\n",
            " [0.7757468  0.22425324]\n",
            " [0.7611489  0.23885104]\n",
            " [0.74591184 0.25408813]\n",
            " [0.7300479  0.26995215]\n",
            " [0.7135736  0.28642648]\n",
            " [0.696512   0.30348805]\n",
            " [0.67889124 0.32110876]\n",
            " [0.66074574 0.33925426]\n",
            " [0.6421154  0.3578846 ]\n",
            " [0.6230459  0.3769541 ]\n",
            " [0.60358727 0.39641264]\n",
            " [0.58379525 0.41620466]\n",
            " [0.5637303  0.43626973]\n",
            " [0.54345345 0.45654652]\n",
            " [0.5230316  0.47696838]]\n"
          ],
          "name": "stdout"
        },
        {
          "output_type": "display_data",
          "data": {
            "image/png": "[encoded data removed]",
            "text/plain": [
              "<Figure size 576x396 with 1 Axes>"
            ]
          },
          "metadata": {
            "tags": []
          }
        }
      ]
    },
    {
      "metadata": {
        "id": "4_CMj2o_CIOH",
        "colab_type": "text"
      },
      "cell_type": "markdown",
      "source": [
        "OK, so later in the day it is more likely that the light is on. This is a believable pattern. But the fitted pattern seems overly simplistic. We can do better."
      ]
    },
    {
      "metadata": {
        "id": "dCsh0nSlUagy",
        "colab_type": "code",
        "outputId": "3b0ba3b1-37f0-4f83-a647-1b10020e01a2",
        "colab": {
          "base_uri": "https://localhost:8080/",
          "height": 255
        }
      },
      "cell_type": "code",
      "source": [
        "# lets get more advanced and do a little \"feature engineering\"\n",
        "\n",
        "xs_light = df[[\"hour_f\"]].values\n",
        "print(\"xs before: %s\" % xs_light)\n",
        "\n",
        "# some magic math operations to convert this into a 2 dimensional variable\n",
        "import math\n",
        "def transform_hour(xs):\n",
        "  xs_cos = np.cos((2 * math.pi * xs) / 24.0)\n",
        "  xs_sin = np.sin((2 * math.pi * xs) / 24.0)\n",
        "  xs = np.concatenate([xs_cos, xs_sin], axis=1)\n",
        "  return xs\n",
        "\n",
        "xs_light = transform_hour(xs_light)\n",
        "print(\"xs after: %s\" % xs_light)"
      ],
      "execution_count": 11,
      "outputs": [
        {
          "output_type": "stream",
          "text": [
            "xs before: [[16.  ]\n",
            " [16.25]\n",
            " [16.5 ]\n",
            " ...\n",
            " [15.5 ]\n",
            " [15.75]\n",
            " [16.  ]]\n",
            "xs after: [[-0.5        -0.8660254 ]\n",
            " [-0.44228869 -0.89687274]\n",
            " [-0.38268343 -0.92387953]\n",
            " ...\n",
            " [-0.60876143 -0.79335334]\n",
            " [-0.55557023 -0.83146961]\n",
            " [-0.5        -0.8660254 ]]\n"
          ],
          "name": "stdout"
        }
      ]
    },
    {
      "metadata": {
        "id": "z5kw-t5UMYdz",
        "colab_type": "code",
        "outputId": "eb1d6900-9b52-461b-fca2-1d64e5c9345d",
        "colab": {
          "base_uri": "https://localhost:8080/",
          "height": 561
        }
      },
      "cell_type": "code",
      "source": [
        "# train a model with these features\n",
        "model = tf.keras.Sequential()\n",
        "model.add(keras.layers.Dense(32, input_shape=[2], activation=\"relu\"))\n",
        "model.add(keras.layers.Dense(2, activation=\"softmax\"))\n",
        "model.compile(optimizer='adam', loss='categorical_crossentropy', metrics=[\"accuracy\"])\n",
        "\n",
        "model.summary()\n",
        "\n",
        "model.fit(xs_light, ys_light, epochs=10)"
      ],
      "execution_count": 12,
      "outputs": [
        {
          "output_type": "stream",
          "text": [
            "_________________________________________________________________\n",
            "Layer (type)                 Output Shape              Param #   \n",
            "=================================================================\n",
            "dense_8 (Dense)              (None, 32)                96        \n",
            "_________________________________________________________________\n",
            "dense_9 (Dense)              (None, 2)                 66        \n",
            "=================================================================\n",
            "Total params: 162\n",
            "Trainable params: 162\n",
            "Non-trainable params: 0\n",
            "_________________________________________________________________\n",
            "Epoch 1/10\n",
            "5953/5953 [==============================] - 0s 70us/sample - loss: 0.5333 - acc: 0.7504\n",
            "Epoch 2/10\n",
            "5953/5953 [==============================] - 0s 47us/sample - loss: 0.4537 - acc: 0.7808\n",
            "Epoch 3/10\n",
            "5953/5953 [==============================] - 0s 49us/sample - loss: 0.4452 - acc: 0.7852\n",
            "Epoch 4/10\n",
            "5953/5953 [==============================] - 0s 48us/sample - loss: 0.4418 - acc: 0.7835\n",
            "Epoch 5/10\n",
            "5953/5953 [==============================] - 0s 50us/sample - loss: 0.4399 - acc: 0.7821\n",
            "Epoch 6/10\n",
            "5953/5953 [==============================] - 0s 40us/sample - loss: 0.4388 - acc: 0.7840\n",
            "Epoch 7/10\n",
            "5953/5953 [==============================] - 0s 39us/sample - loss: 0.4383 - acc: 0.7821\n",
            "Epoch 8/10\n",
            "5953/5953 [==============================] - 0s 39us/sample - loss: 0.4371 - acc: 0.7826\n",
            "Epoch 9/10\n",
            "5953/5953 [==============================] - 0s 39us/sample - loss: 0.4362 - acc: 0.7843\n",
            "Epoch 10/10\n",
            "5953/5953 [==============================] - 0s 40us/sample - loss: 0.4355 - acc: 0.7852\n"
          ],
          "name": "stdout"
        },
        {
          "output_type": "execute_result",
          "data": {
            "text/plain": [
              "<tensorflow.python.keras.callbacks.History at 0x7fed05272490>"
            ]
          },
          "metadata": {
            "tags": []
          },
          "execution_count": 12
        }
      ]
    },
    {
      "metadata": {
        "id": "tPlbzXqvFS8A",
        "colab_type": "code",
        "outputId": "11c78fb6-ceb9-42db-a9d5-2fbca75cec8e",
        "colab": {
          "base_uri": "https://localhost:8080/",
          "height": 1158
        }
      },
      "cell_type": "code",
      "source": [
        "import matplotlib.pyplot as plt\n",
        "def plot(model):\n",
        "  # plot one point for each hour of the day\n",
        "  hours = np.array([[h] for h in range(23)])\n",
        "  hours_transformed = transform_hour(hours)\n",
        "  preds = model.predict(hours_transformed)\n",
        "  print(preds)\n",
        "  print(\"predictions = %s\" % preds)\n",
        "  plt.plot(hours, preds[:, -1])\n",
        "  plt.xlabel(\"hour\")\n",
        "  plt.ylabel(\"prediction\")\n",
        "  plt.title(\"Prediction by hour of day\")\n",
        "  \n",
        "plot(model)"
      ],
      "execution_count": 14,
      "outputs": [
        {
          "output_type": "stream",
          "text": [
            "[[0.9543782  0.04562187]\n",
            " [0.98162156 0.01837841]\n",
            " [0.98921853 0.01078141]\n",
            " [0.9905178  0.00948218]\n",
            " [0.9882637  0.01173629]\n",
            " [0.9808429  0.01915714]\n",
            " [0.9610538  0.03894621]\n",
            " [0.9121164  0.08788361]\n",
            " [0.8022904  0.19770958]\n",
            " [0.68789196 0.31210804]\n",
            " [0.70472604 0.2952739 ]\n",
            " [0.7341372  0.26586288]\n",
            " [0.76035357 0.23964652]\n",
            " [0.77363163 0.22636835]\n",
            " [0.7439275  0.2560725 ]\n",
            " [0.6497805  0.3502195 ]\n",
            " [0.5252374  0.47476265]\n",
            " [0.39862207 0.60137796]\n",
            " [0.35485595 0.64514405]\n",
            " [0.34257007 0.65743   ]\n",
            " [0.36222312 0.6377769 ]\n",
            " [0.4856828  0.5143173 ]\n",
            " [0.6887541  0.31124592]]\n",
            "predictions = [[0.9543782  0.04562187]\n",
            " [0.98162156 0.01837841]\n",
            " [0.98921853 0.01078141]\n",
            " [0.9905178  0.00948218]\n",
            " [0.9882637  0.01173629]\n",
            " [0.9808429  0.01915714]\n",
            " [0.9610538  0.03894621]\n",
            " [0.9121164  0.08788361]\n",
            " [0.8022904  0.19770958]\n",
            " [0.68789196 0.31210804]\n",
            " [0.70472604 0.2952739 ]\n",
            " [0.7341372  0.26586288]\n",
            " [0.76035357 0.23964652]\n",
            " [0.77363163 0.22636835]\n",
            " [0.7439275  0.2560725 ]\n",
            " [0.6497805  0.3502195 ]\n",
            " [0.5252374  0.47476265]\n",
            " [0.39862207 0.60137796]\n",
            " [0.35485595 0.64514405]\n",
            " [0.34257007 0.65743   ]\n",
            " [0.36222312 0.6377769 ]\n",
            " [0.4856828  0.5143173 ]\n",
            " [0.6887541  0.31124592]]\n"
          ],
          "name": "stdout"
        },
        {
          "output_type": "display_data",
          "data": {
            "image/png": "[encoded data removed]",
            "text/plain": [
              "<Figure size 576x396 with 1 Axes>"
            ]
          },
          "metadata": {
            "tags": []
          }
        }
      ]
    },
    {
      "metadata": {
        "id": "n3CRlfWTNrID",
        "colab_type": "text"
      },
      "cell_type": "markdown",
      "source": [
        "That's more like it! A peak in the morning and a peak in the evening. This model is now prediction in a way that is much more consistent with observed historical patterns."
      ]
    },
    {
      "metadata": {
        "id": "feKFeno3CrnH",
        "colab_type": "text"
      },
      "cell_type": "markdown",
      "source": [
        "**Exercise:** So far we have only used 1 feature, the hour of the day. Go back and train a model using all the features. The accuracy should improve a lot."
      ]
    },
    {
      "metadata": {
        "id": "EA3UU1__C4It",
        "colab_type": "text"
      },
      "cell_type": "markdown",
      "source": [
        "**Exercise:** Follow the instructions on the slides to train a keras model in Eider, the amazon internal tool"
      ]
    }
  ]
}