{
  "nbformat": 4,
  "nbformat_minor": 0,
  "metadata": {
    "colab": {
      "name": "w1.ipynb",
      "version": "0.3.2",
      "provenance": [],
      "collapsed_sections": [],
      "include_colab_link": true
    },
    "kernelspec": {
      "name": "python2",
      "display_name": "Python 2"
    }
  },
  "cells": [
    {
      "cell_type": "markdown",
      "metadata": {
        "id": "view-in-github",
        "colab_type": "text"
      },
      "source": [
        "<a href=\"https://colab.research.google.com/github/ceabrett/tf_course/blob/master/w1.ipynb\" target=\"_parent\"><img src=\"https://colab.research.google.com/assets/colab-badge.svg\" alt=\"Open In Colab\"/></a>"
      ]
    },
    {
      "metadata": {
        "id": "EQSpivuRDz8N",
        "colab_type": "text"
      },
      "cell_type": "markdown",
      "source": [
        "# Predicting whether a light is on or off\n",
        "\n",
        "I have collected the data for one of my lights over a period of about 2 months. In this exercise we will train a tensorflow model to predict the state of the light from the following featuers:\n",
        "* hour of the day\n",
        "* day of the week\n",
        "* minutes since the last state change in the home (log scaled)\n",
        "* miuntes since the last utterance in the home (log scaled)\n",
        "* the elevation of the sun (scaled between -1 and -1)\n",
        "* mean onoff state (the proportion of other lights in the home that are on)"
      ]
    },
    {
      "metadata": {
        "id": "bYrscVwpFVYN",
        "colab_type": "text"
      },
      "cell_type": "markdown",
      "source": [
        "**Exercise:** Which of these features would you expect to be the most important? Can you think of any other features that would help?"
      ]
    },
    {
      "metadata": {
        "id": "U-Lj6MnRwFgD",
        "colab_type": "text"
      },
      "cell_type": "markdown",
      "source": [
        "First lets executre the code from the lecture and the code from the slides, just to make sure it works."
      ]
    },
    {
      "metadata": {
        "id": "iMp8_Qo2GvgF",
        "colab_type": "code",
        "colab": {}
      },
      "cell_type": "code",
      "source": [
        "# import some modules that we will use in the notebook\n",
        "import tensorflow as tf\n",
        "from tensorflow import keras\n",
        "import numpy as np\n",
        "import pandas as pd"
      ],
      "execution_count": 0,
      "outputs": []
    },
    {
      "metadata": {
        "id": "KjglX-RA-obL",
        "colab_type": "code",
        "colab": {
          "base_uri": "https://localhost:8080/",
          "height": 374
        },
        "outputId": "f952f26f-fec7-4a3c-8ced-d11123096605"
      },
      "cell_type": "code",
      "source": [
        "# code from the week 1 lectures\n",
        "model = tf.keras.Sequential([keras.layers.Dense(units=1, input_shape=[1])])\n",
        "model.compile(optimizer='sgd', loss='mean_squared_error')\n",
        "\n",
        "xs = np.array([-1.0,  0.0, 1.0, 2.0, 3.0, 4.0], dtype=float)\n",
        "ys = np.array([-3.0, -1.0, 1.0, 3.0, 5.0, 7.0], dtype=float)\n",
        "\n",
        "model.fit(xs, ys, epochs=10)\n",
        "\n",
        "print(\"prediction = %s\" % model.predict([1]))"
      ],
      "execution_count": 42,
      "outputs": [
        {
          "output_type": "stream",
          "text": [
            "Epoch 1/10\n",
            "6/6 [==============================] - 1s 100ms/sample - loss: 55.4513\n",
            "Epoch 2/10\n",
            "6/6 [==============================] - 0s 714us/sample - loss: 44.0409\n",
            "Epoch 3/10\n",
            "6/6 [==============================] - 0s 669us/sample - loss: 35.0553\n",
            "Epoch 4/10\n",
            "6/6 [==============================] - 0s 427us/sample - loss: 27.9775\n",
            "Epoch 5/10\n",
            "6/6 [==============================] - 0s 428us/sample - loss: 22.4008\n",
            "Epoch 6/10\n",
            "6/6 [==============================] - 0s 297us/sample - loss: 18.0054\n",
            "Epoch 7/10\n",
            "6/6 [==============================] - 0s 342us/sample - loss: 14.5394\n",
            "Epoch 8/10\n",
            "6/6 [==============================] - 0s 406us/sample - loss: 11.8049\n",
            "Epoch 9/10\n",
            "6/6 [==============================] - 0s 552us/sample - loss: 9.6460\n",
            "Epoch 10/10\n",
            "6/6 [==============================] - 0s 440us/sample - loss: 7.9401\n",
            "prediction = [[1.0211489]]\n"
          ],
          "name": "stdout"
        }
      ]
    },
    {
      "metadata": {
        "id": "NFdhrUzQwGCb",
        "colab_type": "code",
        "outputId": "0198b127-2a42-431e-c178-b7029e025d8a",
        "colab": {
          "base_uri": "https://localhost:8080/",
          "height": 578
        }
      },
      "cell_type": "code",
      "source": [
        "# code from the slides\n",
        "model = tf.keras.Sequential()\n",
        "model.add(keras.layers.Dense(1, input_shape=[1], activation=\"relu\"))\n",
        "model.add(keras.layers.Dense(2, activation=\"softmax\"))\n",
        "model.compile(optimizer='adam', loss='categorical_crossentropy')\n",
        "\n",
        "model.summary()\n",
        "\n",
        "xs = np.array([-1.0, 2.0, -3.0, 4.0, -5.0, 6.0], dtype=float)\n",
        "ys = np.array([[0, 1], [1, 0], [0, 1], [1, 0], [0, 1], [1, 0]], dtype=float)\n",
        "\n",
        "model.fit(xs, ys, epochs=10)\n",
        "\n",
        "print(\"prediction = %s\" % model.predict([-2, 2]))"
      ],
      "execution_count": 43,
      "outputs": [
        {
          "output_type": "stream",
          "text": [
            "_________________________________________________________________\n",
            "Layer (type)                 Output Shape              Param #   \n",
            "=================================================================\n",
            "dense_33 (Dense)             (None, 1)                 2         \n",
            "_________________________________________________________________\n",
            "dense_34 (Dense)             (None, 2)                 4         \n",
            "=================================================================\n",
            "Total params: 6\n",
            "Trainable params: 6\n",
            "Non-trainable params: 0\n",
            "_________________________________________________________________\n",
            "Epoch 1/10\n",
            "6/6 [==============================] - 1s 125ms/sample - loss: 0.5615\n",
            "Epoch 2/10\n",
            "6/6 [==============================] - 0s 1ms/sample - loss: 0.5606\n",
            "Epoch 3/10\n",
            "6/6 [==============================] - 0s 348us/sample - loss: 0.5597\n",
            "Epoch 4/10\n",
            "6/6 [==============================] - 0s 447us/sample - loss: 0.5588\n",
            "Epoch 5/10\n",
            "6/6 [==============================] - 0s 413us/sample - loss: 0.5578\n",
            "Epoch 6/10\n",
            "6/6 [==============================] - 0s 321us/sample - loss: 0.5569\n",
            "Epoch 7/10\n",
            "6/6 [==============================] - 0s 341us/sample - loss: 0.5560\n",
            "Epoch 8/10\n",
            "6/6 [==============================] - 0s 357us/sample - loss: 0.5551\n",
            "Epoch 9/10\n",
            "6/6 [==============================] - 0s 366us/sample - loss: 0.5542\n",
            "Epoch 10/10\n",
            "6/6 [==============================] - 0s 438us/sample - loss: 0.5533\n",
            "prediction = [[0.38757434 0.6124257 ]\n",
            " [0.50500065 0.4949994 ]]\n"
          ],
          "name": "stdout"
        }
      ]
    },
    {
      "metadata": {
        "id": "57vUuJdl_TyQ",
        "colab_type": "text"
      },
      "cell_type": "markdown",
      "source": [
        "**Exercise:** Do the above predictions look correct?"
      ]
    },
    {
      "metadata": {
        "id": "PjBpIYCM_aXf",
        "colab_type": "text"
      },
      "cell_type": "markdown",
      "source": [
        "Now lets load my smart home dataset."
      ]
    },
    {
      "metadata": {
        "id": "1eQY4AI4G8Ro",
        "colab_type": "code",
        "outputId": "e977800e-9dcd-42df-ef4d-90fc091d296a",
        "colab": {
          "base_uri": "https://localhost:8080/",
          "height": 221
        }
      },
      "cell_type": "code",
      "source": [
        "# make the dataset accessible to this notebook\n",
        "!git clone https://github.com/ceabrett/tf_course.git\n",
        "\n",
        "# load the dataset into a pandas dataframe and show the beginning of the dataset\n",
        "df = pd.read_csv(\"tf_course/data.csv\")\n",
        "df.head()"
      ],
      "execution_count": 44,
      "outputs": [
        {
          "output_type": "stream",
          "text": [
            "fatal: destination path 'tf_course' already exists and is not an empty directory.\n"
          ],
          "name": "stdout"
        },
        {
          "output_type": "execute_result",
          "data": {
            "text/html": [
              "<div>\n",
              "<style scoped>\n",
              "    .dataframe tbody tr th:only-of-type {\n",
              "        vertical-align: middle;\n",
              "    }\n",
              "\n",
              "    .dataframe tbody tr th {\n",
              "        vertical-align: top;\n",
              "    }\n",
              "\n",
              "    .dataframe thead th {\n",
              "        text-align: right;\n",
              "    }\n",
              "</style>\n",
              "<table border=\"1\" class=\"dataframe\">\n",
              "  <thead>\n",
              "    <tr style=\"text-align: right;\">\n",
              "      <th></th>\n",
              "      <th>dow_f</th>\n",
              "      <th>hour_f</th>\n",
              "      <th>log_mins_since_any_onoff</th>\n",
              "      <th>log_mins_since_utt</th>\n",
              "      <th>mean_onoff_state</th>\n",
              "      <th>state</th>\n",
              "      <th>sun_elevation</th>\n",
              "    </tr>\n",
              "  </thead>\n",
              "  <tbody>\n",
              "    <tr>\n",
              "      <th>0</th>\n",
              "      <td>3.666667</td>\n",
              "      <td>16.00</td>\n",
              "      <td>3.418493</td>\n",
              "      <td>6.053619</td>\n",
              "      <td>0.2</td>\n",
              "      <td>1</td>\n",
              "      <td>0.024071</td>\n",
              "    </tr>\n",
              "    <tr>\n",
              "      <th>1</th>\n",
              "      <td>3.677083</td>\n",
              "      <td>16.25</td>\n",
              "      <td>3.818226</td>\n",
              "      <td>6.088252</td>\n",
              "      <td>0.2</td>\n",
              "      <td>1</td>\n",
              "      <td>0.004045</td>\n",
              "    </tr>\n",
              "    <tr>\n",
              "      <th>2</th>\n",
              "      <td>3.687500</td>\n",
              "      <td>16.50</td>\n",
              "      <td>4.103030</td>\n",
              "      <td>6.121726</td>\n",
              "      <td>0.2</td>\n",
              "      <td>1</td>\n",
              "      <td>-0.016666</td>\n",
              "    </tr>\n",
              "    <tr>\n",
              "      <th>3</th>\n",
              "      <td>3.697917</td>\n",
              "      <td>16.75</td>\n",
              "      <td>4.324442</td>\n",
              "      <td>6.154116</td>\n",
              "      <td>0.2</td>\n",
              "      <td>1</td>\n",
              "      <td>-0.047375</td>\n",
              "    </tr>\n",
              "    <tr>\n",
              "      <th>4</th>\n",
              "      <td>3.708333</td>\n",
              "      <td>17.00</td>\n",
              "      <td>1.963954</td>\n",
              "      <td>1.368262</td>\n",
              "      <td>0.4</td>\n",
              "      <td>1</td>\n",
              "      <td>-0.073805</td>\n",
              "    </tr>\n",
              "  </tbody>\n",
              "</table>\n",
              "</div>"
            ],
            "text/plain": [
              "      dow_f  hour_f  log_mins_since_any_onoff  log_mins_since_utt  \\\n",
              "0  3.666667   16.00                  3.418493            6.053619   \n",
              "1  3.677083   16.25                  3.818226            6.088252   \n",
              "2  3.687500   16.50                  4.103030            6.121726   \n",
              "3  3.697917   16.75                  4.324442            6.154116   \n",
              "4  3.708333   17.00                  1.963954            1.368262   \n",
              "\n",
              "   mean_onoff_state  state  sun_elevation  \n",
              "0               0.2      1       0.024071  \n",
              "1               0.2      1       0.004045  \n",
              "2               0.2      1      -0.016666  \n",
              "3               0.2      1      -0.047375  \n",
              "4               0.4      1      -0.073805  "
            ]
          },
          "metadata": {
            "tags": []
          },
          "execution_count": 44
        }
      ]
    },
    {
      "metadata": {
        "id": "kOBSwpMFHb8v",
        "colab_type": "code",
        "outputId": "9fbd7ca7-2a1c-43b3-8210-27c6e358fdcd",
        "colab": {
          "base_uri": "https://localhost:8080/",
          "height": 297
        }
      },
      "cell_type": "code",
      "source": [
        "# some summary statistics about the data\n",
        "df.describe()"
      ],
      "execution_count": 45,
      "outputs": [
        {
          "output_type": "execute_result",
          "data": {
            "text/html": [
              "<div>\n",
              "<style scoped>\n",
              "    .dataframe tbody tr th:only-of-type {\n",
              "        vertical-align: middle;\n",
              "    }\n",
              "\n",
              "    .dataframe tbody tr th {\n",
              "        vertical-align: top;\n",
              "    }\n",
              "\n",
              "    .dataframe thead th {\n",
              "        text-align: right;\n",
              "    }\n",
              "</style>\n",
              "<table border=\"1\" class=\"dataframe\">\n",
              "  <thead>\n",
              "    <tr style=\"text-align: right;\">\n",
              "      <th></th>\n",
              "      <th>dow_f</th>\n",
              "      <th>hour_f</th>\n",
              "      <th>log_mins_since_any_onoff</th>\n",
              "      <th>log_mins_since_utt</th>\n",
              "      <th>mean_onoff_state</th>\n",
              "      <th>state</th>\n",
              "      <th>sun_elevation</th>\n",
              "    </tr>\n",
              "  </thead>\n",
              "  <tbody>\n",
              "    <tr>\n",
              "      <th>count</th>\n",
              "      <td>5953.000000</td>\n",
              "      <td>5953.000000</td>\n",
              "      <td>5953.000000</td>\n",
              "      <td>5953.000000</td>\n",
              "      <td>5953.000000</td>\n",
              "      <td>5953.000000</td>\n",
              "      <td>5953.000000</td>\n",
              "    </tr>\n",
              "    <tr>\n",
              "      <th>mean</th>\n",
              "      <td>3.500028</td>\n",
              "      <td>11.875693</td>\n",
              "      <td>4.463248</td>\n",
              "      <td>5.275338</td>\n",
              "      <td>0.235272</td>\n",
              "      <td>0.263901</td>\n",
              "      <td>-0.178586</td>\n",
              "    </tr>\n",
              "    <tr>\n",
              "      <th>std</th>\n",
              "      <td>2.036206</td>\n",
              "      <td>6.928034</td>\n",
              "      <td>1.342702</td>\n",
              "      <td>1.261047</td>\n",
              "      <td>0.171756</td>\n",
              "      <td>0.440783</td>\n",
              "      <td>0.324940</td>\n",
              "    </tr>\n",
              "    <tr>\n",
              "      <th>min</th>\n",
              "      <td>0.000000</td>\n",
              "      <td>0.000000</td>\n",
              "      <td>0.011682</td>\n",
              "      <td>0.021452</td>\n",
              "      <td>0.000000</td>\n",
              "      <td>0.000000</td>\n",
              "      <td>-0.730116</td>\n",
              "    </tr>\n",
              "    <tr>\n",
              "      <th>25%</th>\n",
              "      <td>1.718750</td>\n",
              "      <td>6.000000</td>\n",
              "      <td>3.683634</td>\n",
              "      <td>4.625277</td>\n",
              "      <td>0.071429</td>\n",
              "      <td>0.000000</td>\n",
              "      <td>-0.484594</td>\n",
              "    </tr>\n",
              "    <tr>\n",
              "      <th>50%</th>\n",
              "      <td>3.531250</td>\n",
              "      <td>12.000000</td>\n",
              "      <td>4.715919</td>\n",
              "      <td>5.515032</td>\n",
              "      <td>0.214286</td>\n",
              "      <td>0.000000</td>\n",
              "      <td>-0.155060</td>\n",
              "    </tr>\n",
              "    <tr>\n",
              "      <th>75%</th>\n",
              "      <td>5.270833</td>\n",
              "      <td>17.750000</td>\n",
              "      <td>5.482503</td>\n",
              "      <td>6.136417</td>\n",
              "      <td>0.357143</td>\n",
              "      <td>1.000000</td>\n",
              "      <td>0.133980</td>\n",
              "    </tr>\n",
              "    <tr>\n",
              "      <th>max</th>\n",
              "      <td>6.989583</td>\n",
              "      <td>23.750000</td>\n",
              "      <td>7.572345</td>\n",
              "      <td>8.006151</td>\n",
              "      <td>0.800000</td>\n",
              "      <td>1.000000</td>\n",
              "      <td>0.350472</td>\n",
              "    </tr>\n",
              "  </tbody>\n",
              "</table>\n",
              "</div>"
            ],
            "text/plain": [
              "             dow_f       hour_f  log_mins_since_any_onoff  log_mins_since_utt  \\\n",
              "count  5953.000000  5953.000000               5953.000000         5953.000000   \n",
              "mean      3.500028    11.875693                  4.463248            5.275338   \n",
              "std       2.036206     6.928034                  1.342702            1.261047   \n",
              "min       0.000000     0.000000                  0.011682            0.021452   \n",
              "25%       1.718750     6.000000                  3.683634            4.625277   \n",
              "50%       3.531250    12.000000                  4.715919            5.515032   \n",
              "75%       5.270833    17.750000                  5.482503            6.136417   \n",
              "max       6.989583    23.750000                  7.572345            8.006151   \n",
              "\n",
              "       mean_onoff_state        state  sun_elevation  \n",
              "count       5953.000000  5953.000000    5953.000000  \n",
              "mean           0.235272     0.263901      -0.178586  \n",
              "std            0.171756     0.440783       0.324940  \n",
              "min            0.000000     0.000000      -0.730116  \n",
              "25%            0.071429     0.000000      -0.484594  \n",
              "50%            0.214286     0.000000      -0.155060  \n",
              "75%            0.357143     1.000000       0.133980  \n",
              "max            0.800000     1.000000       0.350472  "
            ]
          },
          "metadata": {
            "tags": []
          },
          "execution_count": 45
        }
      ]
    },
    {
      "metadata": {
        "id": "hYCo_vw6Fwdm",
        "colab_type": "text"
      },
      "cell_type": "markdown",
      "source": [
        "We want to predict \"state\" using everything else as a feature, so lets seperate them. Tensorflow expects us to pass seperately the features and the label to the fit function."
      ]
    },
    {
      "metadata": {
        "id": "0rSdfzbtJJBU",
        "colab_type": "code",
        "colab": {}
      },
      "cell_type": "code",
      "source": [
        "# to keep things simple initially, lets just use 1 feature, \"hour_f\"\n",
        "feat_names = [\"hour_f\"]\n",
        "\n",
        "# later we can use all features by uncommenting the below line\n",
        "#feat_names = [feat_name for feat_name in df.columns if feat_name != \"state\"]\n",
        "\n",
        "feats = df[feat_names]\n",
        "label = df[\"state\"]\n",
        "\n",
        "# tensorflow is expecting the features vector to be a 2 dimensional array, not a pandas dataframe. But we can get the underlying array with .values\n",
        "xs_light = feats.values\n",
        "ys_light = label.values\n",
        "\n",
        "# for classification into 2 classes our output dimension should be 2\n",
        "# currently ys looks like [0, 1, 0 ...], but we want [[0, 1], [1, 0], [0, 1],..]\n",
        "# luckily there is a helper function which does this mapping for us\n",
        "from keras.utils import np_utils\n",
        "ys_light = np_utils.to_categorical(ys_light, 2)"
      ],
      "execution_count": 0,
      "outputs": []
    },
    {
      "metadata": {
        "id": "bvIWL1FVLcWI",
        "colab_type": "text"
      },
      "cell_type": "markdown",
      "source": [
        "Now lets train our classification model on the real data."
      ]
    },
    {
      "metadata": {
        "id": "7GEwAbByKOuf",
        "colab_type": "code",
        "outputId": "25b96291-3116-4d74-f6a6-b70e747ab829",
        "colab": {
          "base_uri": "https://localhost:8080/",
          "height": 578
        }
      },
      "cell_type": "code",
      "source": [
        "# code from the slides\n",
        "model = tf.keras.Sequential()\n",
        "model.add(keras.layers.Dense(1, input_shape=[1], activation=\"relu\"))\n",
        "model.add(keras.layers.Dense(2, activation=\"softmax\"))\n",
        "model.compile(optimizer='adam', loss='categorical_crossentropy')\n",
        "\n",
        "model.summary()\n",
        "\n",
        "model.fit(xs_light, ys_light, epochs=10)\n",
        "\n",
        "print(\"prediction = %s\" % model.predict([4, 17]))"
      ],
      "execution_count": 47,
      "outputs": [
        {
          "output_type": "stream",
          "text": [
            "_________________________________________________________________\n",
            "Layer (type)                 Output Shape              Param #   \n",
            "=================================================================\n",
            "dense_35 (Dense)             (None, 1)                 2         \n",
            "_________________________________________________________________\n",
            "dense_36 (Dense)             (None, 2)                 4         \n",
            "=================================================================\n",
            "Total params: 6\n",
            "Trainable params: 6\n",
            "Non-trainable params: 0\n",
            "_________________________________________________________________\n",
            "Epoch 1/10\n",
            "5953/5953 [==============================] - 1s 174us/sample - loss: 0.6574\n",
            "Epoch 2/10\n",
            "5953/5953 [==============================] - 0s 43us/sample - loss: 0.6193\n",
            "Epoch 3/10\n",
            "5953/5953 [==============================] - 0s 43us/sample - loss: 0.5975\n",
            "Epoch 4/10\n",
            "5953/5953 [==============================] - 0s 42us/sample - loss: 0.5785\n",
            "Epoch 5/10\n",
            "5953/5953 [==============================] - 0s 42us/sample - loss: 0.5631\n",
            "Epoch 6/10\n",
            "5953/5953 [==============================] - 0s 45us/sample - loss: 0.5503\n",
            "Epoch 7/10\n",
            "5953/5953 [==============================] - 0s 43us/sample - loss: 0.5397\n",
            "Epoch 8/10\n",
            "5953/5953 [==============================] - 0s 43us/sample - loss: 0.5323\n",
            "Epoch 9/10\n",
            "5953/5953 [==============================] - 0s 46us/sample - loss: 0.5258\n",
            "Epoch 10/10\n",
            "5953/5953 [==============================] - 0s 42us/sample - loss: 0.5211\n",
            "prediction = [[0.82768327 0.17231677]\n",
            " [0.6230459  0.3769541 ]]\n"
          ],
          "name": "stdout"
        }
      ]
    },
    {
      "metadata": {
        "id": "J8RJJ0SKBsnE",
        "colab_type": "text"
      },
      "cell_type": "markdown",
      "source": [
        "**Exercise:** Do these predictions make sense?"
      ]
    },
    {
      "metadata": {
        "id": "kGKBk4T1Bzmi",
        "colab_type": "text"
      },
      "cell_type": "markdown",
      "source": [
        "Let's visualize our model to see if we can better understand what is going on."
      ]
    },
    {
      "metadata": {
        "id": "hPztkdtXSRQu",
        "colab_type": "code",
        "outputId": "7c2967d4-0fda-4817-b160-77887a84ebc2",
        "colab": {
          "base_uri": "https://localhost:8080/",
          "height": 767
        }
      },
      "cell_type": "code",
      "source": [
        "import matplotlib.pyplot as plt\n",
        "\n",
        "def plot(model):\n",
        "  # plot one point for each hour of the day\n",
        "  hours = range(23)\n",
        "  preds = model.predict(hours)\n",
        "  print(\"predictions = %s\" % preds)\n",
        "  plt.plot(hours, preds[:, -1])\n",
        "  plt.xlabel(\"hour\")\n",
        "  plt.ylabel(\"prediction\")\n",
        "  plt.title(\"Prediction by hour of day\")\n",
        "  \n",
        "plot(model)"
      ],
      "execution_count": 48,
      "outputs": [
        {
          "output_type": "stream",
          "text": [
            "predictions = [[0.86153257 0.13846742]\n",
            " [0.86002296 0.13997707]\n",
            " [0.8498493  0.15015078]\n",
            " [0.83907443 0.16092557]\n",
            " [0.82768327 0.17231677]\n",
            " [0.81566286 0.18433717]\n",
            " [0.8030035  0.19699651]\n",
            " [0.7896989  0.21030107]\n",
            " [0.7757468  0.22425324]\n",
            " [0.7611489  0.23885104]\n",
            " [0.74591184 0.25408813]\n",
            " [0.7300479  0.26995215]\n",
            " [0.7135736  0.28642648]\n",
            " [0.696512   0.30348805]\n",
            " [0.67889124 0.32110876]\n",
            " [0.66074574 0.33925426]\n",
            " [0.6421154  0.3578846 ]\n",
            " [0.6230459  0.3769541 ]\n",
            " [0.60358727 0.39641264]\n",
            " [0.58379525 0.41620466]\n",
            " [0.5637303  0.43626973]\n",
            " [0.54345345 0.45654652]\n",
            " [0.5230316  0.47696838]]\n"
          ],
          "name": "stdout"
        },
        {
          "output_type": "display_data",
          "data": {
            "image/png": "[encoded data removed]",
            "text/plain": [
              "<Figure size 576x396 with 1 Axes>"
            ]
          },
          "metadata": {
            "tags": []
          }
        }
      ]
    },
    {
      "metadata": {
        "id": "4_CMj2o_CIOH",
        "colab_type": "text"
      },
      "cell_type": "markdown",
      "source": [
        "OK, so later in the day it is more likely that the light is on. This is a believable pattern. But the fitted pattern seems overly simplistic. We can do better."
      ]
    },
    {
      "metadata": {
        "id": "dCsh0nSlUagy",
        "colab_type": "code",
        "outputId": "5cf24b28-70fd-4cf9-f6c5-ec5df74046d8",
        "colab": {
          "base_uri": "https://localhost:8080/",
          "height": 255
        }
      },
      "cell_type": "code",
      "source": [
        "# lets get more advanced and do a little \"feature engineering\"\n",
        "\n",
        "xs_light = df[[\"hour_f\"]].values\n",
        "print(\"xs before: %s\" % xs_light)\n",
        "\n",
        "# some magic math operations to convert this into a 2 dimensional variable\n",
        "import math\n",
        "def transform_hour(xs):\n",
        "  xs_cos = np.cos((2 * math.pi * xs) / 24.0)\n",
        "  xs_sin = np.sin((2 * math.pi * xs) / 24.0)\n",
        "  xs = np.concatenate([xs_cos, xs_sin], axis=1)\n",
        "  return xs\n",
        "\n",
        "xs_light = transform_hour(xs_light)\n",
        "print(\"xs after: %s\" % xs_light)"
      ],
      "execution_count": 49,
      "outputs": [
        {
          "output_type": "stream",
          "text": [
            "xs before: [[16.  ]\n",
            " [16.25]\n",
            " [16.5 ]\n",
            " ...\n",
            " [15.5 ]\n",
            " [15.75]\n",
            " [16.  ]]\n",
            "xs after: [[-0.5        -0.8660254 ]\n",
            " [-0.44228869 -0.89687274]\n",
            " [-0.38268343 -0.92387953]\n",
            " ...\n",
            " [-0.60876143 -0.79335334]\n",
            " [-0.55557023 -0.83146961]\n",
            " [-0.5        -0.8660254 ]]\n"
          ],
          "name": "stdout"
        }
      ]
    },
    {
      "metadata": {
        "id": "z5kw-t5UMYdz",
        "colab_type": "code",
        "colab": {
          "base_uri": "https://localhost:8080/",
          "height": 561
        },
        "outputId": "0b2f2a41-177a-4a83-9c86-ead7d057a3c6"
      },
      "cell_type": "code",
      "source": [
        "# train a model with these features\n",
        "model = tf.keras.Sequential()\n",
        "model.add(keras.layers.Dense(32, input_shape=[2], activation=\"relu\"))\n",
        "model.add(keras.layers.Dense(2, activation=\"softmax\"))\n",
        "model.compile(optimizer='adam', loss='categorical_crossentropy')\n",
        "\n",
        "model.summary()\n",
        "\n",
        "model.fit(xs_light, ys_light, epochs=10)"
      ],
      "execution_count": 50,
      "outputs": [
        {
          "output_type": "stream",
          "text": [
            "_________________________________________________________________\n",
            "Layer (type)                 Output Shape              Param #   \n",
            "=================================================================\n",
            "dense_37 (Dense)             (None, 32)                96        \n",
            "_________________________________________________________________\n",
            "dense_38 (Dense)             (None, 2)                 66        \n",
            "=================================================================\n",
            "Total params: 162\n",
            "Trainable params: 162\n",
            "Non-trainable params: 0\n",
            "_________________________________________________________________\n",
            "Epoch 1/10\n",
            "5953/5953 [==============================] - 1s 201us/sample - loss: 0.5651\n",
            "Epoch 2/10\n",
            "5953/5953 [==============================] - 0s 47us/sample - loss: 0.4641\n",
            "Epoch 3/10\n",
            "5953/5953 [==============================] - 0s 47us/sample - loss: 0.4480\n",
            "Epoch 4/10\n",
            "5953/5953 [==============================] - 0s 44us/sample - loss: 0.4417\n",
            "Epoch 5/10\n",
            "5953/5953 [==============================] - 0s 44us/sample - loss: 0.4388\n",
            "Epoch 6/10\n",
            "5953/5953 [==============================] - 0s 43us/sample - loss: 0.4380\n",
            "Epoch 7/10\n",
            "5953/5953 [==============================] - 0s 43us/sample - loss: 0.4365\n",
            "Epoch 8/10\n",
            "5953/5953 [==============================] - 0s 44us/sample - loss: 0.4356\n",
            "Epoch 9/10\n",
            "5953/5953 [==============================] - 0s 44us/sample - loss: 0.4348\n",
            "Epoch 10/10\n",
            "5953/5953 [==============================] - 0s 44us/sample - loss: 0.4346\n"
          ],
          "name": "stdout"
        },
        {
          "output_type": "execute_result",
          "data": {
            "text/plain": [
              "<tensorflow.python.keras.callbacks.History at 0x7fc9b7504ed0>"
            ]
          },
          "metadata": {
            "tags": []
          },
          "execution_count": 50
        }
      ]
    },
    {
      "metadata": {
        "id": "tPlbzXqvFS8A",
        "colab_type": "code",
        "colab": {
          "base_uri": "https://localhost:8080/",
          "height": 1158
        },
        "outputId": "f41a0da6-725c-417e-bca2-6bee6057ab52"
      },
      "cell_type": "code",
      "source": [
        "def plot(model):\n",
        "  # plot one point for each hour of the day\n",
        "  hours = np.array([[h] for h in range(23)])\n",
        "  hours_transformed = transform_hour(hours)\n",
        "  preds = model.predict(hours_transformed)\n",
        "  print(preds)\n",
        "  print(\"predictions = %s\" % preds)\n",
        "  plt.plot(hours, preds[:, -1])\n",
        "  plt.xlabel(\"hour\")\n",
        "  plt.ylabel(\"prediction\")\n",
        "  plt.title(\"Prediction by hour of day\")\n",
        "  \n",
        "plot(model)"
      ],
      "execution_count": 51,
      "outputs": [
        {
          "output_type": "stream",
          "text": [
            "[[0.9468139  0.05318616]\n",
            " [0.97771925 0.02228072]\n",
            " [0.98851097 0.01148898]\n",
            " [0.99019617 0.00980383]\n",
            " [0.98924714 0.01075284]\n",
            " [0.9816095  0.01839051]\n",
            " [0.96156275 0.03843723]\n",
            " [0.9109347  0.08906535]\n",
            " [0.79494846 0.20505154]\n",
            " [0.6935851  0.30641493]\n",
            " [0.70051956 0.29948044]\n",
            " [0.7176689  0.2823311 ]\n",
            " [0.73149693 0.268503  ]\n",
            " [0.75043684 0.24956322]\n",
            " [0.75871825 0.24128178]\n",
            " [0.65113306 0.3488669 ]\n",
            " [0.48575833 0.51424164]\n",
            " [0.35065532 0.6493446 ]\n",
            " [0.29478297 0.705217  ]\n",
            " [0.30039975 0.6996003 ]\n",
            " [0.3720338  0.62796617]\n",
            " [0.48928726 0.5107128 ]\n",
            " [0.69235224 0.30764776]]\n",
            "predictions = [[0.9468139  0.05318616]\n",
            " [0.97771925 0.02228072]\n",
            " [0.98851097 0.01148898]\n",
            " [0.99019617 0.00980383]\n",
            " [0.98924714 0.01075284]\n",
            " [0.9816095  0.01839051]\n",
            " [0.96156275 0.03843723]\n",
            " [0.9109347  0.08906535]\n",
            " [0.79494846 0.20505154]\n",
            " [0.6935851  0.30641493]\n",
            " [0.70051956 0.29948044]\n",
            " [0.7176689  0.2823311 ]\n",
            " [0.73149693 0.268503  ]\n",
            " [0.75043684 0.24956322]\n",
            " [0.75871825 0.24128178]\n",
            " [0.65113306 0.3488669 ]\n",
            " [0.48575833 0.51424164]\n",
            " [0.35065532 0.6493446 ]\n",
            " [0.29478297 0.705217  ]\n",
            " [0.30039975 0.6996003 ]\n",
            " [0.3720338  0.62796617]\n",
            " [0.48928726 0.5107128 ]\n",
            " [0.69235224 0.30764776]]\n"
          ],
          "name": "stdout"
        },
        {
          "output_type": "display_data",
          "data": {
            "image/png": "[encoded data removed]",
            "text/plain": [
              "<Figure size 576x396 with 1 Axes>"
            ]
          },
          "metadata": {
            "tags": []
          }
        }
      ]
    },
    {
      "metadata": {
        "id": "n3CRlfWTNrID",
        "colab_type": "text"
      },
      "cell_type": "markdown",
      "source": [
        "That's more like it! A peak in the morning and a peak in the evening. This model is now prediction in a way that is much more consistent with observed historical patterns."
      ]
    },
    {
      "metadata": {
        "id": "feKFeno3CrnH",
        "colab_type": "text"
      },
      "cell_type": "markdown",
      "source": [
        "**Exercise:** So far we have only used 1 feature, the hour of the day. Go back and train a model using all the features. The accuracy should improve a lot."
      ]
    },
    {
      "metadata": {
        "id": "EA3UU1__C4It",
        "colab_type": "text"
      },
      "cell_type": "markdown",
      "source": [
        "**Exercise:** Follow the instructions on the slides to train a keras model in Eider, the amazon internal tool"
      ]
    }
  ]
}