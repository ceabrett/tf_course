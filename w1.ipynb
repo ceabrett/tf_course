{
  "nbformat": 4,
  "nbformat_minor": 0,
  "metadata": {
    "colab": {
      "name": "w1.ipynb",
      "version": "0.3.2",
      "provenance": [],
      "collapsed_sections": [],
      "include_colab_link": true
    },
    "kernelspec": {
      "name": "python2",
      "display_name": "Python 2"
    }
  },
  "cells": [
    {
      "cell_type": "markdown",
      "metadata": {
        "id": "view-in-github",
        "colab_type": "text"
      },
      "source": [
        "<a href=\"https://colab.research.google.com/github/ceabrett/tf_course/blob/master/w1.ipynb\" target=\"_parent\"><img src=\"https://colab.research.google.com/assets/colab-badge.svg\" alt=\"Open In Colab\"/></a>"
      ]
    },
    {
      "metadata": {
        "id": "EQSpivuRDz8N",
        "colab_type": "text"
      },
      "cell_type": "markdown",
      "source": [
        "# Predicting whether a light is on or off\n",
        "\n",
        "I have collected the data for one of my lights over a period of about 2 months. In this exercise we will train a tensorflow model to predict the state of the light from the following featuers:\n",
        "* hour of the day\n",
        "* day of the week\n",
        "* minutes since the last state change in the home (log scaled)\n",
        "* miuntes since the last utterance in the home (log scaled)\n",
        "* the elevation of the sun (scaled between -1 and -1)"
      ]
    },
    {
      "metadata": {
        "id": "bYrscVwpFVYN",
        "colab_type": "text"
      },
      "cell_type": "markdown",
      "source": [
        "**Exercise 1:** Which of these features would you expect to be the most important? Can you think of any other features that would help?"
      ]
    },
    {
      "metadata": {
        "id": "U-Lj6MnRwFgD",
        "colab_type": "text"
      },
      "cell_type": "markdown",
      "source": [
        "First lets executre the code from the lecture and the code from the slides, just to make sure it works."
      ]
    },
    {
      "metadata": {
        "id": "iMp8_Qo2GvgF",
        "colab_type": "code",
        "colab": {}
      },
      "cell_type": "code",
      "source": [
        "# import some modules that we will use in the notebook\n",
        "import tensorflow as tf\n",
        "from tensorflow import keras\n",
        "import numpy as np\n",
        "import pandas as pd"
      ],
      "execution_count": 0,
      "outputs": []
    },
    {
      "metadata": {
        "id": "KjglX-RA-obL",
        "colab_type": "code",
        "colab": {
          "base_uri": "https://localhost:8080/",
          "height": 374
        },
        "outputId": "dd2a4f6f-083d-43c4-e29d-3c9a6744336f"
      },
      "cell_type": "code",
      "source": [
        "# code from the week 1 lectures\n",
        "model = tf.keras.Sequential([keras.layers.Dense(units=1, input_shape=[1])])\n",
        "model.compile(optimizer='sgd', loss='mean_squared_error')\n",
        "\n",
        "xs = np.array([-1.0,  0.0, 1.0, 2.0, 3.0, 4.0], dtype=float)\n",
        "ys = np.array([-3.0, -1.0, 1.0, 3.0, 5.0, 7.0], dtype=float)\n",
        "\n",
        "model.fit(xs, ys, epochs=10)\n",
        "\n",
        "print(\"prediction = %s\" % model.predict([1]))"
      ],
      "execution_count": 5,
      "outputs": [
        {
          "output_type": "stream",
          "text": [
            "Epoch 1/10\n",
            "6/6 [==============================] - 0s 19ms/sample - loss: 51.3329\n",
            "Epoch 2/10\n",
            "6/6 [==============================] - 0s 362us/sample - loss: 40.7854\n",
            "Epoch 3/10\n",
            "6/6 [==============================] - 0s 254us/sample - loss: 32.4789\n",
            "Epoch 4/10\n",
            "6/6 [==============================] - 0s 218us/sample - loss: 25.9357\n",
            "Epoch 5/10\n",
            "6/6 [==============================] - 0s 221us/sample - loss: 20.7800\n",
            "Epoch 6/10\n",
            "6/6 [==============================] - 0s 213us/sample - loss: 16.7160\n",
            "Epoch 7/10\n",
            "6/6 [==============================] - 0s 231us/sample - loss: 13.5111\n",
            "Epoch 8/10\n",
            "6/6 [==============================] - 0s 377us/sample - loss: 10.9823\n",
            "Epoch 9/10\n",
            "6/6 [==============================] - 0s 386us/sample - loss: 8.9855\n",
            "Epoch 10/10\n",
            "6/6 [==============================] - 0s 851us/sample - loss: 7.4074\n",
            "prediction = [[1.0439225]]\n"
          ],
          "name": "stdout"
        }
      ]
    },
    {
      "metadata": {
        "id": "NFdhrUzQwGCb",
        "colab_type": "code",
        "outputId": "c96a1e36-4f9c-4671-ff16-6eb67227ca31",
        "colab": {
          "base_uri": "https://localhost:8080/",
          "height": 578
        }
      },
      "cell_type": "code",
      "source": [
        "# code from the slides\n",
        "model = tf.keras.Sequential()\n",
        "model.add(keras.layers.Dense(1, input_shape=[1], activation=\"relu\"))\n",
        "model.add(keras.layers.Dense(2, activation=\"softmax\"))\n",
        "model.compile(optimizer='adam', loss='categorical_crossentropy')\n",
        "\n",
        "model.summary()\n",
        "\n",
        "xs = np.array([-1.0, 2.0, -3.0, 4.0, -5.0, 6.0], dtype=float)\n",
        "ys = np.array([[0, 1], [1, 0], [0, 1], [1, 0], [0, 1], [1, 0]], dtype=float)\n",
        "\n",
        "model.fit(xs, ys, epochs=10)\n",
        "\n",
        "print(\"prediction = %s\" % model.predict([-2, 2]))"
      ],
      "execution_count": 7,
      "outputs": [
        {
          "output_type": "stream",
          "text": [
            "_________________________________________________________________\n",
            "Layer (type)                 Output Shape              Param #   \n",
            "=================================================================\n",
            "dense_6 (Dense)              (None, 1)                 2         \n",
            "_________________________________________________________________\n",
            "dense_7 (Dense)              (None, 2)                 4         \n",
            "=================================================================\n",
            "Total params: 6\n",
            "Trainable params: 6\n",
            "Non-trainable params: 0\n",
            "_________________________________________________________________\n",
            "Epoch 1/10\n",
            "6/6 [==============================] - 0s 62ms/sample - loss: 0.4171\n",
            "Epoch 2/10\n",
            "6/6 [==============================] - 0s 1ms/sample - loss: 0.4164\n",
            "Epoch 3/10\n",
            "6/6 [==============================] - 0s 369us/sample - loss: 0.4156\n",
            "Epoch 4/10\n",
            "6/6 [==============================] - 0s 393us/sample - loss: 0.4149\n",
            "Epoch 5/10\n",
            "6/6 [==============================] - 0s 741us/sample - loss: 0.4141\n",
            "Epoch 6/10\n",
            "6/6 [==============================] - 0s 808us/sample - loss: 0.4134\n",
            "Epoch 7/10\n",
            "6/6 [==============================] - 0s 742us/sample - loss: 0.4127\n",
            "Epoch 8/10\n",
            "6/6 [==============================] - 0s 802us/sample - loss: 0.4119\n",
            "Epoch 9/10\n",
            "6/6 [==============================] - 0s 798us/sample - loss: 0.4112\n",
            "Epoch 10/10\n",
            "6/6 [==============================] - 0s 772us/sample - loss: 0.4105\n",
            "prediction = [[0.13793182 0.8620682 ]\n",
            " [0.50499934 0.4950007 ]]\n"
          ],
          "name": "stdout"
        }
      ]
    },
    {
      "metadata": {
        "id": "57vUuJdl_TyQ",
        "colab_type": "text"
      },
      "cell_type": "markdown",
      "source": [
        "**Exercise:** Do the above predictions look correct?"
      ]
    },
    {
      "metadata": {
        "id": "PjBpIYCM_aXf",
        "colab_type": "text"
      },
      "cell_type": "markdown",
      "source": [
        "Now lets load my smart home dataset."
      ]
    },
    {
      "metadata": {
        "id": "1eQY4AI4G8Ro",
        "colab_type": "code",
        "outputId": "37a6f962-4bd9-44c7-c10a-866e80744d6a",
        "colab": {
          "base_uri": "https://localhost:8080/",
          "height": 306
        }
      },
      "cell_type": "code",
      "source": [
        "# make the dataset accessible to this notebook\n",
        "!git clone https://github.com/ceabrett/tf_course.git\n",
        "\n",
        "# load the dataset into a pandas dataframe and show the beginning of the dataset\n",
        "df = pd.read_csv(\"tf_course/data.csv\")\n",
        "df.head()"
      ],
      "execution_count": 8,
      "outputs": [
        {
          "output_type": "stream",
          "text": [
            "Cloning into 'tf_course'...\n",
            "remote: Enumerating objects: 47, done.\u001b[K\n",
            "remote: Counting objects: 100% (47/47), done.\u001b[K\n",
            "remote: Compressing objects: 100% (38/38), done.\u001b[K\n",
            "remote: Total 47 (delta 23), reused 16 (delta 5), pack-reused 0\u001b[K\n",
            "Unpacking objects: 100% (47/47), done.\n"
          ],
          "name": "stdout"
        },
        {
          "output_type": "execute_result",
          "data": {
            "text/html": [
              "<div>\n",
              "<style scoped>\n",
              "    .dataframe tbody tr th:only-of-type {\n",
              "        vertical-align: middle;\n",
              "    }\n",
              "\n",
              "    .dataframe tbody tr th {\n",
              "        vertical-align: top;\n",
              "    }\n",
              "\n",
              "    .dataframe thead th {\n",
              "        text-align: right;\n",
              "    }\n",
              "</style>\n",
              "<table border=\"1\" class=\"dataframe\">\n",
              "  <thead>\n",
              "    <tr style=\"text-align: right;\">\n",
              "      <th></th>\n",
              "      <th>dow_f</th>\n",
              "      <th>hour_f</th>\n",
              "      <th>log_mins_since_any_onoff</th>\n",
              "      <th>log_mins_since_utt</th>\n",
              "      <th>mean_onoff_state</th>\n",
              "      <th>state</th>\n",
              "      <th>sun_elevation</th>\n",
              "    </tr>\n",
              "  </thead>\n",
              "  <tbody>\n",
              "    <tr>\n",
              "      <th>0</th>\n",
              "      <td>3.666667</td>\n",
              "      <td>16.00</td>\n",
              "      <td>3.418493</td>\n",
              "      <td>6.053619</td>\n",
              "      <td>0.2</td>\n",
              "      <td>1</td>\n",
              "      <td>0.024071</td>\n",
              "    </tr>\n",
              "    <tr>\n",
              "      <th>1</th>\n",
              "      <td>3.677083</td>\n",
              "      <td>16.25</td>\n",
              "      <td>3.818226</td>\n",
              "      <td>6.088252</td>\n",
              "      <td>0.2</td>\n",
              "      <td>1</td>\n",
              "      <td>0.004045</td>\n",
              "    </tr>\n",
              "    <tr>\n",
              "      <th>2</th>\n",
              "      <td>3.687500</td>\n",
              "      <td>16.50</td>\n",
              "      <td>4.103030</td>\n",
              "      <td>6.121726</td>\n",
              "      <td>0.2</td>\n",
              "      <td>1</td>\n",
              "      <td>-0.016666</td>\n",
              "    </tr>\n",
              "    <tr>\n",
              "      <th>3</th>\n",
              "      <td>3.697917</td>\n",
              "      <td>16.75</td>\n",
              "      <td>4.324442</td>\n",
              "      <td>6.154116</td>\n",
              "      <td>0.2</td>\n",
              "      <td>1</td>\n",
              "      <td>-0.047375</td>\n",
              "    </tr>\n",
              "    <tr>\n",
              "      <th>4</th>\n",
              "      <td>3.708333</td>\n",
              "      <td>17.00</td>\n",
              "      <td>1.963954</td>\n",
              "      <td>1.368262</td>\n",
              "      <td>0.4</td>\n",
              "      <td>1</td>\n",
              "      <td>-0.073805</td>\n",
              "    </tr>\n",
              "  </tbody>\n",
              "</table>\n",
              "</div>"
            ],
            "text/plain": [
              "      dow_f  hour_f  log_mins_since_any_onoff  log_mins_since_utt  \\\n",
              "0  3.666667   16.00                  3.418493            6.053619   \n",
              "1  3.677083   16.25                  3.818226            6.088252   \n",
              "2  3.687500   16.50                  4.103030            6.121726   \n",
              "3  3.697917   16.75                  4.324442            6.154116   \n",
              "4  3.708333   17.00                  1.963954            1.368262   \n",
              "\n",
              "   mean_onoff_state  state  sun_elevation  \n",
              "0               0.2      1       0.024071  \n",
              "1               0.2      1       0.004045  \n",
              "2               0.2      1      -0.016666  \n",
              "3               0.2      1      -0.047375  \n",
              "4               0.4      1      -0.073805  "
            ]
          },
          "metadata": {
            "tags": []
          },
          "execution_count": 8
        }
      ]
    },
    {
      "metadata": {
        "id": "kOBSwpMFHb8v",
        "colab_type": "code",
        "outputId": "c6631394-1393-4aa0-dab4-387b27abb938",
        "colab": {
          "base_uri": "https://localhost:8080/",
          "height": 297
        }
      },
      "cell_type": "code",
      "source": [
        "# some summary statistics about the data\n",
        "df.describe()"
      ],
      "execution_count": 9,
      "outputs": [
        {
          "output_type": "execute_result",
          "data": {
            "text/html": [
              "<div>\n",
              "<style scoped>\n",
              "    .dataframe tbody tr th:only-of-type {\n",
              "        vertical-align: middle;\n",
              "    }\n",
              "\n",
              "    .dataframe tbody tr th {\n",
              "        vertical-align: top;\n",
              "    }\n",
              "\n",
              "    .dataframe thead th {\n",
              "        text-align: right;\n",
              "    }\n",
              "</style>\n",
              "<table border=\"1\" class=\"dataframe\">\n",
              "  <thead>\n",
              "    <tr style=\"text-align: right;\">\n",
              "      <th></th>\n",
              "      <th>dow_f</th>\n",
              "      <th>hour_f</th>\n",
              "      <th>log_mins_since_any_onoff</th>\n",
              "      <th>log_mins_since_utt</th>\n",
              "      <th>mean_onoff_state</th>\n",
              "      <th>state</th>\n",
              "      <th>sun_elevation</th>\n",
              "    </tr>\n",
              "  </thead>\n",
              "  <tbody>\n",
              "    <tr>\n",
              "      <th>count</th>\n",
              "      <td>5953.000000</td>\n",
              "      <td>5953.000000</td>\n",
              "      <td>5953.000000</td>\n",
              "      <td>5953.000000</td>\n",
              "      <td>5953.000000</td>\n",
              "      <td>5953.000000</td>\n",
              "      <td>5953.000000</td>\n",
              "    </tr>\n",
              "    <tr>\n",
              "      <th>mean</th>\n",
              "      <td>3.500028</td>\n",
              "      <td>11.875693</td>\n",
              "      <td>4.463248</td>\n",
              "      <td>5.275338</td>\n",
              "      <td>0.235272</td>\n",
              "      <td>0.263901</td>\n",
              "      <td>-0.178586</td>\n",
              "    </tr>\n",
              "    <tr>\n",
              "      <th>std</th>\n",
              "      <td>2.036206</td>\n",
              "      <td>6.928034</td>\n",
              "      <td>1.342702</td>\n",
              "      <td>1.261047</td>\n",
              "      <td>0.171756</td>\n",
              "      <td>0.440783</td>\n",
              "      <td>0.324940</td>\n",
              "    </tr>\n",
              "    <tr>\n",
              "      <th>min</th>\n",
              "      <td>0.000000</td>\n",
              "      <td>0.000000</td>\n",
              "      <td>0.011682</td>\n",
              "      <td>0.021452</td>\n",
              "      <td>0.000000</td>\n",
              "      <td>0.000000</td>\n",
              "      <td>-0.730116</td>\n",
              "    </tr>\n",
              "    <tr>\n",
              "      <th>25%</th>\n",
              "      <td>1.718750</td>\n",
              "      <td>6.000000</td>\n",
              "      <td>3.683634</td>\n",
              "      <td>4.625277</td>\n",
              "      <td>0.071429</td>\n",
              "      <td>0.000000</td>\n",
              "      <td>-0.484594</td>\n",
              "    </tr>\n",
              "    <tr>\n",
              "      <th>50%</th>\n",
              "      <td>3.531250</td>\n",
              "      <td>12.000000</td>\n",
              "      <td>4.715919</td>\n",
              "      <td>5.515032</td>\n",
              "      <td>0.214286</td>\n",
              "      <td>0.000000</td>\n",
              "      <td>-0.155060</td>\n",
              "    </tr>\n",
              "    <tr>\n",
              "      <th>75%</th>\n",
              "      <td>5.270833</td>\n",
              "      <td>17.750000</td>\n",
              "      <td>5.482503</td>\n",
              "      <td>6.136417</td>\n",
              "      <td>0.357143</td>\n",
              "      <td>1.000000</td>\n",
              "      <td>0.133980</td>\n",
              "    </tr>\n",
              "    <tr>\n",
              "      <th>max</th>\n",
              "      <td>6.989583</td>\n",
              "      <td>23.750000</td>\n",
              "      <td>7.572345</td>\n",
              "      <td>8.006151</td>\n",
              "      <td>0.800000</td>\n",
              "      <td>1.000000</td>\n",
              "      <td>0.350472</td>\n",
              "    </tr>\n",
              "  </tbody>\n",
              "</table>\n",
              "</div>"
            ],
            "text/plain": [
              "             dow_f       hour_f  log_mins_since_any_onoff  log_mins_since_utt  \\\n",
              "count  5953.000000  5953.000000               5953.000000         5953.000000   \n",
              "mean      3.500028    11.875693                  4.463248            5.275338   \n",
              "std       2.036206     6.928034                  1.342702            1.261047   \n",
              "min       0.000000     0.000000                  0.011682            0.021452   \n",
              "25%       1.718750     6.000000                  3.683634            4.625277   \n",
              "50%       3.531250    12.000000                  4.715919            5.515032   \n",
              "75%       5.270833    17.750000                  5.482503            6.136417   \n",
              "max       6.989583    23.750000                  7.572345            8.006151   \n",
              "\n",
              "       mean_onoff_state        state  sun_elevation  \n",
              "count       5953.000000  5953.000000    5953.000000  \n",
              "mean           0.235272     0.263901      -0.178586  \n",
              "std            0.171756     0.440783       0.324940  \n",
              "min            0.000000     0.000000      -0.730116  \n",
              "25%            0.071429     0.000000      -0.484594  \n",
              "50%            0.214286     0.000000      -0.155060  \n",
              "75%            0.357143     1.000000       0.133980  \n",
              "max            0.800000     1.000000       0.350472  "
            ]
          },
          "metadata": {
            "tags": []
          },
          "execution_count": 9
        }
      ]
    },
    {
      "metadata": {
        "id": "hYCo_vw6Fwdm",
        "colab_type": "text"
      },
      "cell_type": "markdown",
      "source": [
        "We want to predict \"state\" using everything else as a feature, so lets seperate them. Tensorflow expects us to pass seperately the features and the label to the fit function."
      ]
    },
    {
      "metadata": {
        "id": "0rSdfzbtJJBU",
        "colab_type": "code",
        "colab": {}
      },
      "cell_type": "code",
      "source": [
        "# to keep things simple initially, lets just use 1 feature, \"hour_f\"\n",
        "feat_names = [\"hour_f\"]\n",
        "\n",
        "# later we can use all features by uncommenting the below line\n",
        "#feat_names = [feat_name for feat_name in df.columns if feat_name != \"state\"]\n",
        "\n",
        "feats = df[feat_names]\n",
        "label = df[\"state\"]\n",
        "\n",
        "# tensorflow is expecting the features vector to be a 2 dimensional array, not a pandas dataframe. But we can get the underlying array with .values\n",
        "xs_light = feats.values\n",
        "ys_light = label.values\n",
        "\n",
        "# for classification into 2 classes our output dimension should be 2\n",
        "# currently ys looks like [0, 1, 0 ...], but we want [[0, 1], [1, 0], [0, 1],..]\n",
        "# luckily there is a helper function which does this mapping for us\n",
        "from keras.utils import np_utils\n",
        "ys_light = np_utils.to_categorical(ys_light, 2)"
      ],
      "execution_count": 0,
      "outputs": []
    },
    {
      "metadata": {
        "id": "bvIWL1FVLcWI",
        "colab_type": "text"
      },
      "cell_type": "markdown",
      "source": [
        "Now lets train our classification model on the real data."
      ]
    },
    {
      "metadata": {
        "id": "7GEwAbByKOuf",
        "colab_type": "code",
        "outputId": "30ef52b5-9b7f-442b-95d9-4f48541c7b06",
        "colab": {
          "base_uri": "https://localhost:8080/",
          "height": 578
        }
      },
      "cell_type": "code",
      "source": [
        "# code from the slides\n",
        "model = tf.keras.Sequential()\n",
        "model.add(keras.layers.Dense(1, input_shape=[1], activation=\"relu\"))\n",
        "model.add(keras.layers.Dense(2, activation=\"softmax\"))\n",
        "model.compile(optimizer='adam', loss='categorical_crossentropy')\n",
        "\n",
        "model.summary()\n",
        "\n",
        "model.fit(xs_light, ys_light, epochs=10)\n",
        "\n",
        "print(\"prediction = %s\" % model.predict([4, 17]))"
      ],
      "execution_count": 18,
      "outputs": [
        {
          "output_type": "stream",
          "text": [
            "_________________________________________________________________\n",
            "Layer (type)                 Output Shape              Param #   \n",
            "=================================================================\n",
            "dense_14 (Dense)             (None, 1)                 2         \n",
            "_________________________________________________________________\n",
            "dense_15 (Dense)             (None, 2)                 4         \n",
            "=================================================================\n",
            "Total params: 6\n",
            "Trainable params: 6\n",
            "Non-trainable params: 0\n",
            "_________________________________________________________________\n",
            "Epoch 1/10\n",
            "5953/5953 [==============================] - 1s 89us/sample - loss: 0.9886\n",
            "Epoch 2/10\n",
            "5953/5953 [==============================] - 0s 42us/sample - loss: 0.6784\n",
            "Epoch 3/10\n",
            "5953/5953 [==============================] - 0s 39us/sample - loss: 0.6364\n",
            "Epoch 4/10\n",
            "5953/5953 [==============================] - 0s 42us/sample - loss: 0.6070\n",
            "Epoch 5/10\n",
            "5953/5953 [==============================] - 0s 39us/sample - loss: 0.5843\n",
            "Epoch 6/10\n",
            "5953/5953 [==============================] - 0s 40us/sample - loss: 0.5670\n",
            "Epoch 7/10\n",
            "5953/5953 [==============================] - 0s 40us/sample - loss: 0.5532\n",
            "Epoch 8/10\n",
            "5953/5953 [==============================] - 0s 39us/sample - loss: 0.5427\n",
            "Epoch 9/10\n",
            "5953/5953 [==============================] - 0s 40us/sample - loss: 0.5342\n",
            "Epoch 10/10\n",
            "5953/5953 [==============================] - 0s 39us/sample - loss: 0.5279\n",
            "prediction = [[0.80948895 0.19051097]\n",
            " [0.64008945 0.35991052]]\n"
          ],
          "name": "stdout"
        }
      ]
    },
    {
      "metadata": {
        "id": "J8RJJ0SKBsnE",
        "colab_type": "text"
      },
      "cell_type": "markdown",
      "source": [
        "**Exercise:** Do these predictions make sense?"
      ]
    },
    {
      "metadata": {
        "id": "kGKBk4T1Bzmi",
        "colab_type": "text"
      },
      "cell_type": "markdown",
      "source": [
        "Let's visualize our model to see if we can better understand what is going on."
      ]
    },
    {
      "metadata": {
        "id": "hPztkdtXSRQu",
        "colab_type": "code",
        "outputId": "bc3f181b-d39a-4f03-922a-64469edbfde5",
        "colab": {
          "base_uri": "https://localhost:8080/",
          "height": 767
        }
      },
      "cell_type": "code",
      "source": [
        "import matplotlib.pyplot as plt\n",
        "\n",
        "def plot(model):\n",
        "  # plot one point for each hour of the day\n",
        "  hours = range(23)\n",
        "  preds = model.predict(hours)\n",
        "  print(\"predictions = %s\" % preds)\n",
        "  plt.plot(hours, preds[:, -1])\n",
        "  plt.xlabel(\"hour\")\n",
        "  plt.ylabel(\"prediction\")\n",
        "  plt.title(\"Prediction by hour of day\")\n",
        "  \n",
        "plot(model)"
      ],
      "execution_count": 22,
      "outputs": [
        {
          "output_type": "stream",
          "text": [
            "preds = [[0.8440123  0.1559877 ]\n",
            " [0.8385772  0.1614228 ]\n",
            " [0.82930136 0.17069861]\n",
            " [0.81960726 0.18039279]\n",
            " [0.80948895 0.19051097]\n",
            " [0.79894245 0.20105754]\n",
            " [0.78796506 0.212035  ]\n",
            " [0.77655584 0.22344418]\n",
            " [0.7647161  0.23528399]\n",
            " [0.752449   0.24755108]\n",
            " [0.73975974 0.26024017]\n",
            " [0.7266566  0.2733434 ]\n",
            " [0.7131494  0.28685054]\n",
            " [0.6992511  0.30074888]\n",
            " [0.6849769  0.31502315]\n",
            " [0.6703445  0.32965556]\n",
            " [0.65537447 0.34462562]\n",
            " [0.64008945 0.35991052]\n",
            " [0.62451506 0.37548494]\n",
            " [0.6086788  0.3913212 ]\n",
            " [0.5926101  0.40738985]\n",
            " [0.57634103 0.42365897]\n",
            " [0.55990475 0.44009534]]\n"
          ],
          "name": "stdout"
        },
        {
          "output_type": "display_data",
          "data": {
            "image/png": "[encoded data removed]",
            "text/plain": [
              "<Figure size 576x396 with 1 Axes>"
            ]
          },
          "metadata": {
            "tags": []
          }
        }
      ]
    },
    {
      "metadata": {
        "id": "4_CMj2o_CIOH",
        "colab_type": "text"
      },
      "cell_type": "markdown",
      "source": [
        "OK, so later in the day it is more likely that the light is on. This is a believable pattern. But the fitted pattern seems overly simplistic"
      ]
    },
    {
      "metadata": {
        "id": "dCsh0nSlUagy",
        "colab_type": "code",
        "outputId": "bf7a91cf-715b-4b94-cc78-a37c8636251f",
        "colab": {
          "base_uri": "https://localhost:8080/",
          "height": 255
        }
      },
      "cell_type": "code",
      "source": [
        "# lets get more advanced and do a little \"feature engineering\"\n",
        "\n",
        "xs_light = df[[\"hour_f\"]].values\n",
        "print(\"xs before: %s\" % xs_light)\n",
        "\n",
        "# some magic math operations to convert this into a 2 dimensional variable\n",
        "import math\n",
        "def transform_hour(xs):\n",
        "  xs_cos = np.cos((2 * math.pi * xs) / 24.0)\n",
        "  xs_sin = np.sin((2 * math.pi * xs) / 24.0)\n",
        "  xs = np.concatenate([xs_cos, xs_sin], axis=1)\n",
        "  return xs\n",
        "\n",
        "xs_light = transform_hour(xs_light)\n",
        "print(\"xs after: %s\" % xs_light)"
      ],
      "execution_count": 29,
      "outputs": [
        {
          "output_type": "stream",
          "text": [
            "xs before: [[16.  ]\n",
            " [16.25]\n",
            " [16.5 ]\n",
            " ...\n",
            " [15.5 ]\n",
            " [15.75]\n",
            " [16.  ]]\n",
            "xs after: [[-0.5        -0.8660254 ]\n",
            " [-0.44228869 -0.89687274]\n",
            " [-0.38268343 -0.92387953]\n",
            " ...\n",
            " [-0.60876143 -0.79335334]\n",
            " [-0.55557023 -0.83146961]\n",
            " [-0.5        -0.8660254 ]]\n"
          ],
          "name": "stdout"
        }
      ]
    },
    {
      "metadata": {
        "id": "z5kw-t5UMYdz",
        "colab_type": "code",
        "colab": {
          "base_uri": "https://localhost:8080/",
          "height": 963
        },
        "outputId": "075b0a8a-4b7a-4a9b-a435-7b9df4b6cf48"
      },
      "cell_type": "code",
      "source": [
        "# code from the slides\n",
        "model = tf.keras.Sequential()\n",
        "model.add(keras.layers.Dense(32, input_shape=[2], activation=\"relu\"))\n",
        "model.add(keras.layers.Dense(2, activation=\"softmax\"))\n",
        "model.compile(optimizer='adam', loss='categorical_crossentropy')\n",
        "\n",
        "model.summary()\n",
        "\n",
        "model.fit(xs_light, ys_light, epochs=10)\n"
      ],
      "execution_count": 35,
      "outputs": [
        {
          "output_type": "stream",
          "text": [
            "_________________________________________________________________\n",
            "Layer (type)                 Output Shape              Param #   \n",
            "=================================================================\n",
            "dense_30 (Dense)             (None, 32)                96        \n",
            "_________________________________________________________________\n",
            "dense_31 (Dense)             (None, 2)                 66        \n",
            "=================================================================\n",
            "Total params: 162\n",
            "Trainable params: 162\n",
            "Non-trainable params: 0\n",
            "_________________________________________________________________\n",
            "Epoch 1/10\n",
            "5953/5953 [==============================] - 1s 151us/sample - loss: 0.5248\n",
            "Epoch 2/10\n",
            "5953/5953 [==============================] - 0s 43us/sample - loss: 0.4611\n",
            "Epoch 3/10\n",
            "5953/5953 [==============================] - 0s 42us/sample - loss: 0.4481\n",
            "Epoch 4/10\n",
            "5953/5953 [==============================] - 0s 43us/sample - loss: 0.4421\n",
            "Epoch 5/10\n",
            "5953/5953 [==============================] - 0s 42us/sample - loss: 0.4392\n",
            "Epoch 6/10\n",
            "5953/5953 [==============================] - 0s 45us/sample - loss: 0.4381\n",
            "Epoch 7/10\n",
            "5953/5953 [==============================] - 0s 43us/sample - loss: 0.4370\n",
            "Epoch 8/10\n",
            "5953/5953 [==============================] - 0s 42us/sample - loss: 0.4356\n",
            "Epoch 9/10\n",
            "5953/5953 [==============================] - 0s 43us/sample - loss: 0.4349\n",
            "Epoch 10/10\n",
            "5953/5953 [==============================] - 0s 45us/sample - loss: 0.4346\n"
          ],
          "name": "stdout"
        },
        {
          "output_type": "error",
          "ename": "AxisError",
          "evalue": "ignored",
          "traceback": [
            "\u001b[0;31m\u001b[0m",
            "\u001b[0;31mAxisError\u001b[0mTraceback (most recent call last)",
            "\u001b[0;32m<ipython-input-35-56ee4749fbb8>\u001b[0m in \u001b[0;36m<module>\u001b[0;34m()\u001b[0m\n\u001b[1;32m     19\u001b[0m   \u001b[0mplt\u001b[0m\u001b[0;34m.\u001b[0m\u001b[0mtitle\u001b[0m\u001b[0;34m(\u001b[0m\u001b[0;34m\"Prediction by hour of day\"\u001b[0m\u001b[0;34m)\u001b[0m\u001b[0;34m\u001b[0m\u001b[0m\n\u001b[1;32m     20\u001b[0m \u001b[0;34m\u001b[0m\u001b[0m\n\u001b[0;32m---> 21\u001b[0;31m \u001b[0mplot\u001b[0m\u001b[0;34m(\u001b[0m\u001b[0mmodel\u001b[0m\u001b[0;34m)\u001b[0m\u001b[0;34m\u001b[0m\u001b[0m\n\u001b[0m",
            "\u001b[0;32m<ipython-input-35-56ee4749fbb8>\u001b[0m in \u001b[0;36mplot\u001b[0;34m(model)\u001b[0m\n\u001b[1;32m     11\u001b[0m   \u001b[0;31m# plot one point for each hour of the day\u001b[0m\u001b[0;34m\u001b[0m\u001b[0;34m\u001b[0m\u001b[0m\n\u001b[1;32m     12\u001b[0m   \u001b[0mhours\u001b[0m \u001b[0;34m=\u001b[0m \u001b[0mnp\u001b[0m\u001b[0;34m.\u001b[0m\u001b[0marange\u001b[0m\u001b[0;34m(\u001b[0m\u001b[0;36m23\u001b[0m\u001b[0;34m)\u001b[0m\u001b[0;34m\u001b[0m\u001b[0m\n\u001b[0;32m---> 13\u001b[0;31m   \u001b[0mhours_transformed\u001b[0m \u001b[0;34m=\u001b[0m \u001b[0mtransform_hour\u001b[0m\u001b[0;34m(\u001b[0m\u001b[0mhours\u001b[0m\u001b[0;34m)\u001b[0m\u001b[0;34m\u001b[0m\u001b[0m\n\u001b[0m\u001b[1;32m     14\u001b[0m   \u001b[0mpreds\u001b[0m \u001b[0;34m=\u001b[0m \u001b[0mmodel\u001b[0m\u001b[0;34m.\u001b[0m\u001b[0mpredict\u001b[0m\u001b[0;34m(\u001b[0m\u001b[0mhours_transformed\u001b[0m\u001b[0;34m)\u001b[0m\u001b[0;34m\u001b[0m\u001b[0m\n\u001b[1;32m     15\u001b[0m   \u001b[0;32mprint\u001b[0m\u001b[0;34m(\u001b[0m\u001b[0;34m\"predictions = %s\"\u001b[0m \u001b[0;34m%\u001b[0m \u001b[0mpreds\u001b[0m\u001b[0;34m)\u001b[0m\u001b[0;34m\u001b[0m\u001b[0m\n",
            "\u001b[0;32m<ipython-input-29-792aef995cc8>\u001b[0m in \u001b[0;36mtransform_hour\u001b[0;34m(xs)\u001b[0m\n\u001b[1;32m      8\u001b[0m   \u001b[0mxs_cos\u001b[0m \u001b[0;34m=\u001b[0m \u001b[0mnp\u001b[0m\u001b[0;34m.\u001b[0m\u001b[0mcos\u001b[0m\u001b[0;34m(\u001b[0m\u001b[0;34m(\u001b[0m\u001b[0;36m2\u001b[0m \u001b[0;34m*\u001b[0m \u001b[0mmath\u001b[0m\u001b[0;34m.\u001b[0m\u001b[0mpi\u001b[0m \u001b[0;34m*\u001b[0m \u001b[0mxs\u001b[0m\u001b[0;34m)\u001b[0m \u001b[0;34m/\u001b[0m \u001b[0;36m24.0\u001b[0m\u001b[0;34m)\u001b[0m\u001b[0;34m\u001b[0m\u001b[0m\n\u001b[1;32m      9\u001b[0m   \u001b[0mxs_sin\u001b[0m \u001b[0;34m=\u001b[0m \u001b[0mnp\u001b[0m\u001b[0;34m.\u001b[0m\u001b[0msin\u001b[0m\u001b[0;34m(\u001b[0m\u001b[0;34m(\u001b[0m\u001b[0;36m2\u001b[0m \u001b[0;34m*\u001b[0m \u001b[0mmath\u001b[0m\u001b[0;34m.\u001b[0m\u001b[0mpi\u001b[0m \u001b[0;34m*\u001b[0m \u001b[0mxs\u001b[0m\u001b[0;34m)\u001b[0m \u001b[0;34m/\u001b[0m \u001b[0;36m24.0\u001b[0m\u001b[0;34m)\u001b[0m\u001b[0;34m\u001b[0m\u001b[0m\n\u001b[0;32m---> 10\u001b[0;31m   \u001b[0mxs\u001b[0m \u001b[0;34m=\u001b[0m \u001b[0mnp\u001b[0m\u001b[0;34m.\u001b[0m\u001b[0mconcatenate\u001b[0m\u001b[0;34m(\u001b[0m\u001b[0;34m[\u001b[0m\u001b[0mxs_cos\u001b[0m\u001b[0;34m,\u001b[0m \u001b[0mxs_sin\u001b[0m\u001b[0;34m]\u001b[0m\u001b[0;34m,\u001b[0m \u001b[0maxis\u001b[0m\u001b[0;34m=\u001b[0m\u001b[0;36m1\u001b[0m\u001b[0;34m)\u001b[0m\u001b[0;34m\u001b[0m\u001b[0m\n\u001b[0m\u001b[1;32m     11\u001b[0m   \u001b[0;32mreturn\u001b[0m \u001b[0mxs\u001b[0m\u001b[0;34m\u001b[0m\u001b[0m\n\u001b[1;32m     12\u001b[0m \u001b[0;34m\u001b[0m\u001b[0m\n",
            "\u001b[0;31mAxisError\u001b[0m: axis 1 is out of bounds for array of dimension 1"
          ]
        }
      ]
    },
    {
      "metadata": {
        "id": "tPlbzXqvFS8A",
        "colab_type": "code",
        "colab": {
          "base_uri": "https://localhost:8080/",
          "height": 1158
        },
        "outputId": "6b1a70bd-f3b0-4782-f1eb-1d762bc27f3c"
      },
      "cell_type": "code",
      "source": [
        "def plot(model):\n",
        "  # plot one point for each hour of the day\n",
        "  hours = np.array([[h] for h in range(23)])\n",
        "  hours_transformed = transform_hour(hours)\n",
        "  preds = model.predict(hours_transformed)\n",
        "  print(preds)\n",
        "  print(\"predictions = %s\" % preds)\n",
        "  plt.plot(hours, preds[:, -1])\n",
        "  plt.xlabel(\"hour\")\n",
        "  plt.ylabel(\"prediction\")\n",
        "  plt.title(\"Prediction by hour of day\")\n",
        "  \n",
        "plot(model)"
      ],
      "execution_count": 39,
      "outputs": [
        {
          "output_type": "stream",
          "text": [
            "[[0.95030755 0.04969241]\n",
            " [0.9795243  0.02047569]\n",
            " [0.9892062  0.0107938 ]\n",
            " [0.9926092  0.0073908 ]\n",
            " [0.9919059  0.00809406]\n",
            " [0.9872649  0.01273509]\n",
            " [0.9738095  0.02619055]\n",
            " [0.9342997  0.06570025]\n",
            " [0.82563674 0.17436332]\n",
            " [0.7156388  0.28436118]\n",
            " [0.747621   0.25237903]\n",
            " [0.7705965  0.22940347]\n",
            " [0.7772731  0.22272693]\n",
            " [0.7687968  0.23120314]\n",
            " [0.74443936 0.25556058]\n",
            " [0.6518831  0.34811693]\n",
            " [0.5297029  0.47029713]\n",
            " [0.4120579  0.5879421 ]\n",
            " [0.3621885  0.63781154]\n",
            " [0.35569742 0.64430255]\n",
            " [0.37948212 0.6205179 ]\n",
            " [0.50569904 0.49430102]\n",
            " [0.69170797 0.3082921 ]]\n",
            "predictions = [[0.95030755 0.04969241]\n",
            " [0.9795243  0.02047569]\n",
            " [0.9892062  0.0107938 ]\n",
            " [0.9926092  0.0073908 ]\n",
            " [0.9919059  0.00809406]\n",
            " [0.9872649  0.01273509]\n",
            " [0.9738095  0.02619055]\n",
            " [0.9342997  0.06570025]\n",
            " [0.82563674 0.17436332]\n",
            " [0.7156388  0.28436118]\n",
            " [0.747621   0.25237903]\n",
            " [0.7705965  0.22940347]\n",
            " [0.7772731  0.22272693]\n",
            " [0.7687968  0.23120314]\n",
            " [0.74443936 0.25556058]\n",
            " [0.6518831  0.34811693]\n",
            " [0.5297029  0.47029713]\n",
            " [0.4120579  0.5879421 ]\n",
            " [0.3621885  0.63781154]\n",
            " [0.35569742 0.64430255]\n",
            " [0.37948212 0.6205179 ]\n",
            " [0.50569904 0.49430102]\n",
            " [0.69170797 0.3082921 ]]\n"
          ],
          "name": "stdout"
        },
        {
          "output_type": "display_data",
          "data": {
            "image/png": "[encoded data removed]",
            "text/plain": [
              "<Figure size 576x396 with 1 Axes>"
            ]
          },
          "metadata": {
            "tags": []
          }
        }
      ]
    },
    {
      "metadata": {
        "id": "n3CRlfWTNrID",
        "colab_type": "text"
      },
      "cell_type": "markdown",
      "source": [
        "That's more like it! A peak in the morning and a peak in the evening. This model is now prediction in a way that is much more consistent with observed historical patterns."
      ]
    },
    {
      "metadata": {
        "id": "feKFeno3CrnH",
        "colab_type": "text"
      },
      "cell_type": "markdown",
      "source": [
        "**Exercise:** So far we have only used 1 feature, the hour of the day. Go back and train a model using all the features. The accuracy should improve a lot."
      ]
    },
    {
      "metadata": {
        "id": "EA3UU1__C4It",
        "colab_type": "text"
      },
      "cell_type": "markdown",
      "source": [
        "**Exercise:** Follow the instructions on the slides to train a keras model in Eider, the amazon internal tool"
      ]
    }
  ]
}