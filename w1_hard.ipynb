{
  "nbformat": 4,
  "nbformat_minor": 0,
  "metadata": {
    "colab": {
      "name": "Untitled1.ipynb",
      "version": "0.3.2",
      "provenance": [],
      "include_colab_link": true
    },
    "kernelspec": {
      "name": "python2",
      "display_name": "Python 2"
    }
  },
  "cells": [
    {
      "cell_type": "markdown",
      "metadata": {
        "id": "view-in-github",
        "colab_type": "text"
      },
      "source": [
        "<a href=\"https://colab.research.google.com/github/ceabrett/tf_course/blob/master/w1_hard.ipynb\" target=\"_parent\"><img src=\"https://colab.research.google.com/assets/colab-badge.svg\" alt=\"Open In Colab\"/></a>"
      ]
    },
    {
      "metadata": {
        "id": "iXsvsqKx9VUU",
        "colab_type": "text"
      },
      "cell_type": "markdown",
      "source": [
        "# Predicting whether a light is on or off\n",
        "\n",
        "I have collected the data for one of my lights over a period of about 2 months. In this exercise we will train a tensorflow model to predict the state of the light from the following featuers:\n",
        "* hour of the day\n",
        "* day of the week\n",
        "* minutes since the last state change in the home (log scaled)\n",
        "* miuntes since the last utterance in the home (log scaled)\n",
        "* the elevation of the sun (scaled between -1 and -1)\n",
        "* mean onoff state (the proportion of other lights in the home that are on)"
      ]
    },
    {
      "metadata": {
        "id": "iW3qAZRa9XpP",
        "colab_type": "code",
        "colab": {
          "base_uri": "https://localhost:8080/",
          "height": 221
        },
        "outputId": "c2602a25-0b37-4d1d-cd95-81e7aedfb483"
      },
      "cell_type": "code",
      "source": [
        "# make the dataset accessible to this notebook\n",
        "!git clone https://github.com/ceabrett/tf_course.git\n",
        "\n",
        "# load the dataset into a pandas dataframe and show the beginning of the dataset\n",
        "import pandas as pd\n",
        "df = pd.read_csv(\"tf_course/data.csv\")\n",
        "df.head()"
      ],
      "execution_count": 2,
      "outputs": [
        {
          "output_type": "stream",
          "text": [
            "fatal: destination path 'tf_course' already exists and is not an empty directory.\n"
          ],
          "name": "stdout"
        },
        {
          "output_type": "execute_result",
          "data": {
            "text/html": [
              "<div>\n",
              "<style scoped>\n",
              "    .dataframe tbody tr th:only-of-type {\n",
              "        vertical-align: middle;\n",
              "    }\n",
              "\n",
              "    .dataframe tbody tr th {\n",
              "        vertical-align: top;\n",
              "    }\n",
              "\n",
              "    .dataframe thead th {\n",
              "        text-align: right;\n",
              "    }\n",
              "</style>\n",
              "<table border=\"1\" class=\"dataframe\">\n",
              "  <thead>\n",
              "    <tr style=\"text-align: right;\">\n",
              "      <th></th>\n",
              "      <th>dow_f</th>\n",
              "      <th>hour_f</th>\n",
              "      <th>log_mins_since_any_onoff</th>\n",
              "      <th>log_mins_since_utt</th>\n",
              "      <th>mean_onoff_state</th>\n",
              "      <th>state</th>\n",
              "      <th>sun_elevation</th>\n",
              "    </tr>\n",
              "  </thead>\n",
              "  <tbody>\n",
              "    <tr>\n",
              "      <th>0</th>\n",
              "      <td>3.666667</td>\n",
              "      <td>16.00</td>\n",
              "      <td>3.418493</td>\n",
              "      <td>6.053619</td>\n",
              "      <td>0.2</td>\n",
              "      <td>1</td>\n",
              "      <td>0.024071</td>\n",
              "    </tr>\n",
              "    <tr>\n",
              "      <th>1</th>\n",
              "      <td>3.677083</td>\n",
              "      <td>16.25</td>\n",
              "      <td>3.818226</td>\n",
              "      <td>6.088252</td>\n",
              "      <td>0.2</td>\n",
              "      <td>1</td>\n",
              "      <td>0.004045</td>\n",
              "    </tr>\n",
              "    <tr>\n",
              "      <th>2</th>\n",
              "      <td>3.687500</td>\n",
              "      <td>16.50</td>\n",
              "      <td>4.103030</td>\n",
              "      <td>6.121726</td>\n",
              "      <td>0.2</td>\n",
              "      <td>1</td>\n",
              "      <td>-0.016666</td>\n",
              "    </tr>\n",
              "    <tr>\n",
              "      <th>3</th>\n",
              "      <td>3.697917</td>\n",
              "      <td>16.75</td>\n",
              "      <td>4.324442</td>\n",
              "      <td>6.154116</td>\n",
              "      <td>0.2</td>\n",
              "      <td>1</td>\n",
              "      <td>-0.047375</td>\n",
              "    </tr>\n",
              "    <tr>\n",
              "      <th>4</th>\n",
              "      <td>3.708333</td>\n",
              "      <td>17.00</td>\n",
              "      <td>1.963954</td>\n",
              "      <td>1.368262</td>\n",
              "      <td>0.4</td>\n",
              "      <td>1</td>\n",
              "      <td>-0.073805</td>\n",
              "    </tr>\n",
              "  </tbody>\n",
              "</table>\n",
              "</div>"
            ],
            "text/plain": [
              "      dow_f  hour_f  log_mins_since_any_onoff  log_mins_since_utt  \\\n",
              "0  3.666667   16.00                  3.418493            6.053619   \n",
              "1  3.677083   16.25                  3.818226            6.088252   \n",
              "2  3.687500   16.50                  4.103030            6.121726   \n",
              "3  3.697917   16.75                  4.324442            6.154116   \n",
              "4  3.708333   17.00                  1.963954            1.368262   \n",
              "\n",
              "   mean_onoff_state  state  sun_elevation  \n",
              "0               0.2      1       0.024071  \n",
              "1               0.2      1       0.004045  \n",
              "2               0.2      1      -0.016666  \n",
              "3               0.2      1      -0.047375  \n",
              "4               0.4      1      -0.073805  "
            ]
          },
          "metadata": {
            "tags": []
          },
          "execution_count": 2
        }
      ]
    },
    {
      "metadata": {
        "id": "pAGauxoc9j6Z",
        "colab_type": "text"
      },
      "cell_type": "markdown",
      "source": [
        "**Exercise:** Predict state with as high accuracy as possible. \n",
        "\n",
        "The baseline accuracy (from picking randomly) is 0.5. Above 0.8 is possible."
      ]
    }
  ]
}